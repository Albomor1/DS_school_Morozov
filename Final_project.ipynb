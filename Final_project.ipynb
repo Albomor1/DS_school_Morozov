{
 "cells": [
  {
   "cell_type": "code",
   "execution_count": 1,
   "id": "ca0ddb0d",
   "metadata": {},
   "outputs": [],
   "source": [
    "import sqlite3\n",
    "import pandas as pd\n",
    "import numpy as np\n",
    "from sklearn.metrics.pairwise import cosine_similarity"
   ]
  },
  {
   "cell_type": "code",
   "execution_count": 2,
   "id": "e62668ef",
   "metadata": {},
   "outputs": [],
   "source": [
    "con = sqlite3.connect(\":memory:\")\n",
    "cur = con.cursor()"
   ]
  },
  {
   "cell_type": "code",
   "execution_count": 3,
   "id": "dbaafe5f",
   "metadata": {},
   "outputs": [],
   "source": [
    "df_ratings = pd.read_csv(\"E:/git_exercise/Final/edges/rec-libimseti-dir.edges\", delim_whitespace=True, skiprows=1, names=[\"id_from\", \"id_to\", \"rating\"])"
   ]
  },
  {
   "cell_type": "code",
   "execution_count": 5,
   "id": "7c286597",
   "metadata": {},
   "outputs": [
    {
     "data": {
      "text/plain": [
       "17359346"
      ]
     },
     "execution_count": 5,
     "metadata": {},
     "output_type": "execute_result"
    }
   ],
   "source": [
    "# создаем таблицу\n",
    "df_ratings.to_sql('ratings', con, index=False, if_exists='replace')"
   ]
  },
  {
   "cell_type": "code",
   "execution_count": 6,
   "id": "846cfa14",
   "metadata": {},
   "outputs": [
    {
     "name": "stderr",
     "output_type": "stream",
     "text": [
      "C:\\Users\\albom\\AppData\\Local\\Temp\\ipykernel_4132\\3540005613.py:2: DtypeWarning: Columns (0) have mixed types. Specify dtype option on import or set low_memory=False.\n",
      "  df_info = pd.read_csv('E:/git_exercise/Final/edges/info.csv', names=[\"id\", \"gender\", \"1\", \"2\", \"3\", \"4\", \"5\", \"6\", \"7\", \"8\", \"9\", \"10\", \"11\", \"12\"])\n"
     ]
    }
   ],
   "source": [
    "# считываем  датасет info\n",
    "df_info = pd.read_csv('E:/git_exercise/Final/edges/info.csv', names=[\"id\", \"gender\", \"1\", \"2\", \"3\", \"4\", \"5\", \"6\", \"7\", \"8\", \"9\", \"10\", \"11\", \"12\"])"
   ]
  },
  {
   "cell_type": "code",
   "execution_count": 7,
   "id": "06ab27cc",
   "metadata": {},
   "outputs": [
    {
     "data": {
      "text/plain": [
       "220971"
      ]
     },
     "execution_count": 7,
     "metadata": {},
     "output_type": "execute_result"
    }
   ],
   "source": [
    "#создаем таблицу\n",
    "df_info.to_sql('info', con, index=False, if_exists='replace')"
   ]
  },
  {
   "cell_type": "code",
   "execution_count": 8,
   "id": "6d7fd943",
   "metadata": {},
   "outputs": [],
   "source": [
    "data=pd.read_sql(\n",
    "    '''\n",
    "    SELECT r.id_from,i.gender gender,r.id_to, r.rating FROM info i\n",
    "    join ratings r on r.id_from=i.id order by r.id_from\n",
    "    ''',\n",
    "    con,\n",
    ")"
   ]
  },
  {
   "cell_type": "code",
   "execution_count": 9,
   "id": "f1de5403",
   "metadata": {},
   "outputs": [
    {
     "data": {
      "text/html": [
       "<div>\n",
       "<style scoped>\n",
       "    .dataframe tbody tr th:only-of-type {\n",
       "        vertical-align: middle;\n",
       "    }\n",
       "\n",
       "    .dataframe tbody tr th {\n",
       "        vertical-align: top;\n",
       "    }\n",
       "\n",
       "    .dataframe thead th {\n",
       "        text-align: right;\n",
       "    }\n",
       "</style>\n",
       "<table border=\"1\" class=\"dataframe\">\n",
       "  <thead>\n",
       "    <tr style=\"text-align: right;\">\n",
       "      <th></th>\n",
       "      <th>id_from</th>\n",
       "      <th>gender</th>\n",
       "      <th>id_to</th>\n",
       "      <th>rating</th>\n",
       "    </tr>\n",
       "  </thead>\n",
       "  <tbody>\n",
       "    <tr>\n",
       "      <th>0</th>\n",
       "      <td>1</td>\n",
       "      <td>F</td>\n",
       "      <td>133</td>\n",
       "      <td>8</td>\n",
       "    </tr>\n",
       "    <tr>\n",
       "      <th>1</th>\n",
       "      <td>1</td>\n",
       "      <td>F</td>\n",
       "      <td>720</td>\n",
       "      <td>6</td>\n",
       "    </tr>\n",
       "    <tr>\n",
       "      <th>2</th>\n",
       "      <td>1</td>\n",
       "      <td>F</td>\n",
       "      <td>971</td>\n",
       "      <td>10</td>\n",
       "    </tr>\n",
       "    <tr>\n",
       "      <th>3</th>\n",
       "      <td>1</td>\n",
       "      <td>F</td>\n",
       "      <td>1095</td>\n",
       "      <td>7</td>\n",
       "    </tr>\n",
       "    <tr>\n",
       "      <th>4</th>\n",
       "      <td>1</td>\n",
       "      <td>F</td>\n",
       "      <td>1616</td>\n",
       "      <td>10</td>\n",
       "    </tr>\n",
       "    <tr>\n",
       "      <th>...</th>\n",
       "      <td>...</td>\n",
       "      <td>...</td>\n",
       "      <td>...</td>\n",
       "      <td>...</td>\n",
       "    </tr>\n",
       "    <tr>\n",
       "      <th>17359341</th>\n",
       "      <td>135359</td>\n",
       "      <td>F</td>\n",
       "      <td>215145</td>\n",
       "      <td>8</td>\n",
       "    </tr>\n",
       "    <tr>\n",
       "      <th>17359342</th>\n",
       "      <td>135359</td>\n",
       "      <td>F</td>\n",
       "      <td>215718</td>\n",
       "      <td>4</td>\n",
       "    </tr>\n",
       "    <tr>\n",
       "      <th>17359343</th>\n",
       "      <td>135359</td>\n",
       "      <td>F</td>\n",
       "      <td>218646</td>\n",
       "      <td>10</td>\n",
       "    </tr>\n",
       "    <tr>\n",
       "      <th>17359344</th>\n",
       "      <td>135359</td>\n",
       "      <td>F</td>\n",
       "      <td>218857</td>\n",
       "      <td>7</td>\n",
       "    </tr>\n",
       "    <tr>\n",
       "      <th>17359345</th>\n",
       "      <td>135359</td>\n",
       "      <td>F</td>\n",
       "      <td>218988</td>\n",
       "      <td>5</td>\n",
       "    </tr>\n",
       "  </tbody>\n",
       "</table>\n",
       "<p>17359346 rows × 4 columns</p>\n",
       "</div>"
      ],
      "text/plain": [
       "          id_from gender   id_to  rating\n",
       "0               1      F     133       8\n",
       "1               1      F     720       6\n",
       "2               1      F     971      10\n",
       "3               1      F    1095       7\n",
       "4               1      F    1616      10\n",
       "...           ...    ...     ...     ...\n",
       "17359341   135359      F  215145       8\n",
       "17359342   135359      F  215718       4\n",
       "17359343   135359      F  218646      10\n",
       "17359344   135359      F  218857       7\n",
       "17359345   135359      F  218988       5\n",
       "\n",
       "[17359346 rows x 4 columns]"
      ]
     },
     "execution_count": 9,
     "metadata": {},
     "output_type": "execute_result"
    }
   ],
   "source": [
    "data"
   ]
  },
  {
   "cell_type": "code",
   "execution_count": 10,
   "id": "fac0eed7",
   "metadata": {},
   "outputs": [
    {
     "data": {
      "text/plain": [
       "gender\n",
       "U          83164\n",
       "M          76441\n",
       "F          61365\n",
       " gender        1\n",
       "Name: count, dtype: int64"
      ]
     },
     "execution_count": 10,
     "metadata": {},
     "output_type": "execute_result"
    }
   ],
   "source": [
    "#Статистика датасета по полу\n",
    "df_info['gender'].value_counts()"
   ]
  },
  {
   "cell_type": "code",
   "execution_count": 13,
   "id": "c5b0da7f",
   "metadata": {},
   "outputs": [],
   "source": [
    "#Находим средние значения рейтинга для каждого лайкнутого пользователя\n",
    "mean_ratings_to=pd.DataFrame(df_ratings.groupby('id_to')['rating'].mean())"
   ]
  },
  {
   "cell_type": "code",
   "execution_count": 14,
   "id": "de6368c7",
   "metadata": {},
   "outputs": [],
   "source": [
    "# Считаем число оценок лайкнутых пользователей\n",
    "mean_ratings_to['number of rating'] = pd.DataFrame(df_ratings.groupby('id_to')['rating'].count())"
   ]
  },
  {
   "cell_type": "code",
   "execution_count": 15,
   "id": "485bc02b",
   "metadata": {},
   "outputs": [],
   "source": [
    "# Теперь те же два действия для лайкнувших пользователей\n",
    "mean_ratings_from =pd.DataFrame(df_ratings.groupby('id_from')['rating'].mean())"
   ]
  },
  {
   "cell_type": "code",
   "execution_count": 16,
   "id": "30625461",
   "metadata": {},
   "outputs": [],
   "source": [
    "mean_ratings_from['number of rating'] = pd.DataFrame(df_ratings.groupby('id_from')['rating'].count())"
   ]
  },
  {
   "cell_type": "code",
   "execution_count": 17,
   "id": "a2fbbf6a",
   "metadata": {},
   "outputs": [],
   "source": [
    "#Выбираем активно лайкавших пользователей (кто оценил более, например, 200 раз)\n",
    "new_meanrate_from = mean_ratings_from[mean_ratings_from['number of rating'] > 200]"
   ]
  },
  {
   "cell_type": "code",
   "execution_count": 18,
   "id": "b08660c1",
   "metadata": {},
   "outputs": [],
   "source": [
    "#Сохранение индексов\n",
    "index_from = new_meanrate_from.index"
   ]
  },
  {
   "cell_type": "code",
   "execution_count": 19,
   "id": "61fa1fc1",
   "metadata": {},
   "outputs": [],
   "source": [
    "# Теперь те же два действия для лайкнутых пользователей\n",
    "new_meanrate_to = mean_ratings_to[mean_ratings_to['number of rating'] > 200 ]\n",
    "index_to = new_meanrate_to.index"
   ]
  },
  {
   "cell_type": "code",
   "execution_count": 20,
   "id": "930c7780",
   "metadata": {},
   "outputs": [
    {
     "name": "stdout",
     "output_type": "stream",
     "text": [
      "(135359, 2) (168791, 2)\n"
     ]
    }
   ],
   "source": [
    "print(mean_ratings_from.shape, mean_ratings_to.shape)"
   ]
  },
  {
   "cell_type": "code",
   "execution_count": 21,
   "id": "1bed8612",
   "metadata": {},
   "outputs": [],
   "source": [
    "# Делаем сэмпл, где где 'id_from' совпадает с одним из индексов в 'index_from', и 'id_to' совпадает с одним из индексов в 'index_to'\n",
    "df_ratings_sample = df_ratings.loc[(df_ratings['id_from'].isin(index_from)) & (df_ratings['id_to'].isin(index_to))]"
   ]
  },
  {
   "cell_type": "code",
   "execution_count": 22,
   "id": "81905040",
   "metadata": {},
   "outputs": [
    {
     "data": {
      "text/html": [
       "<div>\n",
       "<style scoped>\n",
       "    .dataframe tbody tr th:only-of-type {\n",
       "        vertical-align: middle;\n",
       "    }\n",
       "\n",
       "    .dataframe tbody tr th {\n",
       "        vertical-align: top;\n",
       "    }\n",
       "\n",
       "    .dataframe thead th {\n",
       "        text-align: right;\n",
       "    }\n",
       "</style>\n",
       "<table border=\"1\" class=\"dataframe\">\n",
       "  <thead>\n",
       "    <tr style=\"text-align: right;\">\n",
       "      <th></th>\n",
       "      <th>id_from</th>\n",
       "      <th>id_to</th>\n",
       "      <th>rating</th>\n",
       "    </tr>\n",
       "  </thead>\n",
       "  <tbody>\n",
       "    <tr>\n",
       "      <th>0</th>\n",
       "      <td>1</td>\n",
       "      <td>133</td>\n",
       "      <td>8</td>\n",
       "    </tr>\n",
       "    <tr>\n",
       "      <th>1</th>\n",
       "      <td>1</td>\n",
       "      <td>720</td>\n",
       "      <td>6</td>\n",
       "    </tr>\n",
       "    <tr>\n",
       "      <th>2</th>\n",
       "      <td>1</td>\n",
       "      <td>971</td>\n",
       "      <td>10</td>\n",
       "    </tr>\n",
       "    <tr>\n",
       "      <th>3</th>\n",
       "      <td>1</td>\n",
       "      <td>1095</td>\n",
       "      <td>7</td>\n",
       "    </tr>\n",
       "    <tr>\n",
       "      <th>4</th>\n",
       "      <td>1</td>\n",
       "      <td>1616</td>\n",
       "      <td>10</td>\n",
       "    </tr>\n",
       "  </tbody>\n",
       "</table>\n",
       "</div>"
      ],
      "text/plain": [
       "   id_from  id_to  rating\n",
       "0        1    133       8\n",
       "1        1    720       6\n",
       "2        1    971      10\n",
       "3        1   1095       7\n",
       "4        1   1616      10"
      ]
     },
     "execution_count": 22,
     "metadata": {},
     "output_type": "execute_result"
    }
   ],
   "source": [
    "df_ratings_sample.head()"
   ]
  },
  {
   "cell_type": "code",
   "execution_count": 23,
   "id": "14648a5f",
   "metadata": {},
   "outputs": [],
   "source": [
    "df_ratings_sample.to_csv('E:/git_exercise/Final/df_sample.csv', sep=',',index=False)"
   ]
  },
  {
   "cell_type": "code",
   "execution_count": 24,
   "id": "56377fa7",
   "metadata": {},
   "outputs": [
    {
     "data": {
      "text/plain": [
       "(5691633, 3)"
      ]
     },
     "execution_count": 24,
     "metadata": {},
     "output_type": "execute_result"
    }
   ],
   "source": [
    "# Сократили размер с 17+ млн до 4,7 млн записей\n",
    "df_ratings_sample.shape"
   ]
  },
  {
   "cell_type": "code",
   "execution_count": 25,
   "id": "6444e84b",
   "metadata": {},
   "outputs": [
    {
     "data": {
      "text/plain": [
       "(15874, 19196)"
      ]
     },
     "execution_count": 25,
     "metadata": {},
     "output_type": "execute_result"
    }
   ],
   "source": [
    "#Уникальные id в столбцах\n",
    "df_ratings_sample['id_from'].nunique(), df_ratings_sample['id_to'].nunique()"
   ]
  },
  {
   "cell_type": "code",
   "execution_count": 26,
   "id": "12ebc1b1",
   "metadata": {},
   "outputs": [],
   "source": [
    "#Так же, как и выше, находим средние значения и число оценок, но уже в сэмпле\n",
    "mean_ratings_to = pd.DataFrame(df_ratings_sample.groupby('id_to')['rating'].mean())\n",
    "mean_ratings_to['number of rating'] = pd.DataFrame(df_ratings_sample.groupby('id_to')['rating'].count())\n",
    "mean_ratings_from =pd.DataFrame(df_ratings_sample.groupby('id_from')['rating'].mean())\n",
    "mean_ratings_from['number of rating'] = pd.DataFrame(df_ratings_sample.groupby('id_from')['rating'].count())"
   ]
  },
  {
   "cell_type": "markdown",
   "id": "b0d847c6",
   "metadata": {},
   "source": [
    "Визуализация:"
   ]
  },
  {
   "cell_type": "code",
   "execution_count": 27,
   "id": "96565f31",
   "metadata": {},
   "outputs": [],
   "source": [
    "import matplotlib.pyplot as plt\n",
    "import seaborn as sns"
   ]
  },
  {
   "cell_type": "code",
   "execution_count": 29,
   "id": "8291c615",
   "metadata": {},
   "outputs": [
    {
     "data": {
      "text/plain": [
       "<Axes: >"
      ]
     },
     "execution_count": 29,
     "metadata": {},
     "output_type": "execute_result"
    },
    {
     "data": {
      "image/png": "[encoded data removed]",
      "text/plain": [
       "<Figure size 1200x800 with 1 Axes>"
      ]
     },
     "metadata": {},
     "output_type": "display_data"
    }
   ],
   "source": [
    "plt.figure(figsize=(12,8))\n",
    "mean_ratings_to['rating'].hist(bins=120)"
   ]
  },
  {
   "cell_type": "markdown",
   "id": "2530d5e8",
   "metadata": {},
   "source": [
    "По графику, есть два пика: большое число пользователей, которых оценили по максимуму (10) и меньшее, но тоже выделяющееся - кого оценили минимально (1). Остальные, в целом, укладываются в нормальное распределение."
   ]
  },
  {
   "cell_type": "code",
   "execution_count": 30,
   "id": "157af98f",
   "metadata": {},
   "outputs": [
    {
     "data": {
      "text/plain": [
       "id_to\n",
       "68989     7104\n",
       "83773     6959\n",
       "156148    6887\n",
       "179192    6426\n",
       "155380    5899\n",
       "Name: number of rating, dtype: int64"
      ]
     },
     "execution_count": 30,
     "metadata": {},
     "output_type": "execute_result"
    }
   ],
   "source": [
    "#Сортируем по убыванию\n",
    "mean_ratings_to['number of rating'].sort_values(ascending=False).head()"
   ]
  },
  {
   "cell_type": "code",
   "execution_count": 31,
   "id": "b9bc9ec7",
   "metadata": {},
   "outputs": [
    {
     "data": {
      "text/plain": [
       "<seaborn.axisgrid.JointGrid at 0x270b3e0dfd0>"
      ]
     },
     "execution_count": 31,
     "metadata": {},
     "output_type": "execute_result"
    },
    {
     "data": {
      "image/png": "[encoded data removed]",
      "text/plain": [
       "<Figure size 600x600 with 3 Axes>"
      ]
     },
     "metadata": {},
     "output_type": "display_data"
    }
   ],
   "source": [
    "# Строим совместный график\n",
    "sns.jointplot(x='rating',y='number of rating',data=mean_ratings_to,alpha=0.5)"
   ]
  },
  {
   "cell_type": "markdown",
   "id": "7df5e1c9",
   "metadata": {},
   "source": [
    "Наибольшее количество оценок у пользователей с рейтингами 6-8 и 10"
   ]
  },
  {
   "cell_type": "markdown",
   "id": "a057d5c1",
   "metadata": {},
   "source": [
    "Возьмем два основных метода: \n",
    "1.Popularity based recommendation \n",
    "2.Content based recommendation "
   ]
  },
  {
   "cell_type": "code",
   "execution_count": 32,
   "id": "cd60c452",
   "metadata": {},
   "outputs": [
    {
     "data": {
      "text/html": [
       "<div>\n",
       "<style scoped>\n",
       "    .dataframe tbody tr th:only-of-type {\n",
       "        vertical-align: middle;\n",
       "    }\n",
       "\n",
       "    .dataframe tbody tr th {\n",
       "        vertical-align: top;\n",
       "    }\n",
       "\n",
       "    .dataframe thead th {\n",
       "        text-align: right;\n",
       "    }\n",
       "</style>\n",
       "<table border=\"1\" class=\"dataframe\">\n",
       "  <thead>\n",
       "    <tr style=\"text-align: right;\">\n",
       "      <th></th>\n",
       "      <th>rating</th>\n",
       "      <th>number of rating</th>\n",
       "    </tr>\n",
       "    <tr>\n",
       "      <th>id_to</th>\n",
       "      <th></th>\n",
       "      <th></th>\n",
       "    </tr>\n",
       "  </thead>\n",
       "  <tbody>\n",
       "    <tr>\n",
       "      <th>68989</th>\n",
       "      <td>5.988035</td>\n",
       "      <td>7104</td>\n",
       "    </tr>\n",
       "    <tr>\n",
       "      <th>83773</th>\n",
       "      <td>6.318293</td>\n",
       "      <td>6959</td>\n",
       "    </tr>\n",
       "    <tr>\n",
       "      <th>156148</th>\n",
       "      <td>9.996370</td>\n",
       "      <td>6887</td>\n",
       "    </tr>\n",
       "    <tr>\n",
       "      <th>179192</th>\n",
       "      <td>7.521008</td>\n",
       "      <td>6426</td>\n",
       "    </tr>\n",
       "    <tr>\n",
       "      <th>155380</th>\n",
       "      <td>5.371588</td>\n",
       "      <td>5899</td>\n",
       "    </tr>\n",
       "  </tbody>\n",
       "</table>\n",
       "</div>"
      ],
      "text/plain": [
       "          rating  number of rating\n",
       "id_to                             \n",
       "68989   5.988035              7104\n",
       "83773   6.318293              6959\n",
       "156148  9.996370              6887\n",
       "179192  7.521008              6426\n",
       "155380  5.371588              5899"
      ]
     },
     "execution_count": 32,
     "metadata": {},
     "output_type": "execute_result"
    }
   ],
   "source": [
    "#Popularity based recommendation выведет рекомендованных пользователей, которые высоко оценивались чаще всего \n",
    "#(в нашем случае, рейтинг выше 6)\n",
    "df_to = mean_ratings_to.sort_values(['number of rating','rating'],ascending=[False,False])\n",
    "df_to.head()"
   ]
  },
  {
   "cell_type": "code",
   "execution_count": 33,
   "id": "6f28b5a6",
   "metadata": {},
   "outputs": [
    {
     "data": {
      "text/plain": [
       "0"
      ]
     },
     "execution_count": 33,
     "metadata": {},
     "output_type": "execute_result"
    }
   ],
   "source": [
    "len(mean_ratings_to[(mean_ratings_to['number of rating'] > 10000) & (mean_ratings_to['rating'] > 6)])"
   ]
  },
  {
   "cell_type": "code",
   "execution_count": 34,
   "id": "a6389a89",
   "metadata": {},
   "outputs": [],
   "source": [
    "#Defining Popularity Based Model\n",
    "def popular_recommend_model(id_from,df_to,threshold,k):\n",
    "  \"\"\"\n",
    "Этот код возвращает верхние 'k' профилей на основе самого высокого рейтинга и количества рейтингов, \n",
    "превышающих определенный порог, независимо от идентификатора пользователя. \n",
    "Если значение k больше, чем количество профилей, соответствующих критериям, \n",
    "он просто возвращает максимальное количество профилей, соответствующих критериям.\n",
    "  \"\"\"\n",
    " # try:\n",
    "#   if len(profile_df[(profile_df['number of rating'] > threshold) & (profile_df['Rating'] > 6)]) < 1:\n",
    "#     print(\"Your filtering doesn't match any profiles\")\n",
    "  return (df_to[(df_to['number of rating'] > threshold) & (df_to['rating'] > 6)].head(k).index)\n",
    " # except:\n",
    " #   print(\"Index out of range\")"
   ]
  },
  {
   "cell_type": "code",
   "execution_count": 35,
   "id": "9f006394",
   "metadata": {},
   "outputs": [
    {
     "data": {
      "text/plain": [
       "Index([328, 1029, 1561, 5962, 6036, 6437, 7006, 10148, 12513, 14258], dtype='int64', name='id_to')"
      ]
     },
     "execution_count": 35,
     "metadata": {},
     "output_type": "execute_result"
    }
   ],
   "source": [
    "popular_recommend_model(98447,mean_ratings_to,2500,10)"
   ]
  },
  {
   "cell_type": "code",
   "execution_count": 36,
   "id": "2985275b",
   "metadata": {},
   "outputs": [],
   "source": [
    "#2. Content- Based Recommendation\n",
    "'''\n",
    "Этот код проверит сходство профилей на основе различных скрытых признаков и предложит профили, \n",
    "похожие на те, которые были оценены пользователем ранее, \n",
    "создав матрицу профиля, в которой пользователь будет использоваться в качестве индекса, \n",
    "профиль - в качестве столбца, а их рейтинг - в качестве значений.\n",
    "'''\n",
    "profilemat = df_ratings_sample.pivot_table(index='id_from',columns='id_to',values='rating')"
   ]
  },
  {
   "cell_type": "code",
   "execution_count": 37,
   "id": "f31bbd32",
   "metadata": {},
   "outputs": [
    {
     "data": {
      "text/plain": [
       "Index([     1,      9,     18,     31,     38,     55,     60,     65,     73,\n",
       "           74,\n",
       "       ...\n",
       "       135280, 135281, 135285, 135298, 135334, 135337, 135339, 135350, 135357,\n",
       "       135359],\n",
       "      dtype='int64', name='id_from', length=15874)"
      ]
     },
     "execution_count": 37,
     "metadata": {},
     "output_type": "execute_result"
    }
   ],
   "source": [
    "profilemat.index"
   ]
  },
  {
   "cell_type": "code",
   "execution_count": 38,
   "id": "366cd835",
   "metadata": {},
   "outputs": [
    {
     "data": {
      "text/html": [
       "<div>\n",
       "<style scoped>\n",
       "    .dataframe tbody tr th:only-of-type {\n",
       "        vertical-align: middle;\n",
       "    }\n",
       "\n",
       "    .dataframe tbody tr th {\n",
       "        vertical-align: top;\n",
       "    }\n",
       "\n",
       "    .dataframe thead th {\n",
       "        text-align: right;\n",
       "    }\n",
       "</style>\n",
       "<table border=\"1\" class=\"dataframe\">\n",
       "  <thead>\n",
       "    <tr style=\"text-align: right;\">\n",
       "      <th>id_to</th>\n",
       "      <th>2</th>\n",
       "      <th>32</th>\n",
       "      <th>41</th>\n",
       "      <th>42</th>\n",
       "      <th>55</th>\n",
       "      <th>57</th>\n",
       "      <th>58</th>\n",
       "      <th>61</th>\n",
       "      <th>77</th>\n",
       "      <th>84</th>\n",
       "      <th>...</th>\n",
       "      <th>220790</th>\n",
       "      <th>220792</th>\n",
       "      <th>220840</th>\n",
       "      <th>220848</th>\n",
       "      <th>220859</th>\n",
       "      <th>220861</th>\n",
       "      <th>220900</th>\n",
       "      <th>220950</th>\n",
       "      <th>220953</th>\n",
       "      <th>220962</th>\n",
       "    </tr>\n",
       "    <tr>\n",
       "      <th>id_from</th>\n",
       "      <th></th>\n",
       "      <th></th>\n",
       "      <th></th>\n",
       "      <th></th>\n",
       "      <th></th>\n",
       "      <th></th>\n",
       "      <th></th>\n",
       "      <th></th>\n",
       "      <th></th>\n",
       "      <th></th>\n",
       "      <th></th>\n",
       "      <th></th>\n",
       "      <th></th>\n",
       "      <th></th>\n",
       "      <th></th>\n",
       "      <th></th>\n",
       "      <th></th>\n",
       "      <th></th>\n",
       "      <th></th>\n",
       "      <th></th>\n",
       "      <th></th>\n",
       "    </tr>\n",
       "  </thead>\n",
       "  <tbody>\n",
       "    <tr>\n",
       "      <th>1</th>\n",
       "      <td>NaN</td>\n",
       "      <td>NaN</td>\n",
       "      <td>NaN</td>\n",
       "      <td>NaN</td>\n",
       "      <td>NaN</td>\n",
       "      <td>NaN</td>\n",
       "      <td>NaN</td>\n",
       "      <td>NaN</td>\n",
       "      <td>NaN</td>\n",
       "      <td>NaN</td>\n",
       "      <td>...</td>\n",
       "      <td>NaN</td>\n",
       "      <td>NaN</td>\n",
       "      <td>NaN</td>\n",
       "      <td>NaN</td>\n",
       "      <td>NaN</td>\n",
       "      <td>NaN</td>\n",
       "      <td>NaN</td>\n",
       "      <td>NaN</td>\n",
       "      <td>NaN</td>\n",
       "      <td>NaN</td>\n",
       "    </tr>\n",
       "    <tr>\n",
       "      <th>9</th>\n",
       "      <td>NaN</td>\n",
       "      <td>NaN</td>\n",
       "      <td>NaN</td>\n",
       "      <td>NaN</td>\n",
       "      <td>5.0</td>\n",
       "      <td>3.0</td>\n",
       "      <td>NaN</td>\n",
       "      <td>NaN</td>\n",
       "      <td>NaN</td>\n",
       "      <td>NaN</td>\n",
       "      <td>...</td>\n",
       "      <td>NaN</td>\n",
       "      <td>NaN</td>\n",
       "      <td>NaN</td>\n",
       "      <td>7.0</td>\n",
       "      <td>NaN</td>\n",
       "      <td>NaN</td>\n",
       "      <td>NaN</td>\n",
       "      <td>NaN</td>\n",
       "      <td>NaN</td>\n",
       "      <td>NaN</td>\n",
       "    </tr>\n",
       "    <tr>\n",
       "      <th>18</th>\n",
       "      <td>NaN</td>\n",
       "      <td>NaN</td>\n",
       "      <td>NaN</td>\n",
       "      <td>NaN</td>\n",
       "      <td>NaN</td>\n",
       "      <td>NaN</td>\n",
       "      <td>NaN</td>\n",
       "      <td>NaN</td>\n",
       "      <td>NaN</td>\n",
       "      <td>NaN</td>\n",
       "      <td>...</td>\n",
       "      <td>NaN</td>\n",
       "      <td>NaN</td>\n",
       "      <td>NaN</td>\n",
       "      <td>NaN</td>\n",
       "      <td>NaN</td>\n",
       "      <td>NaN</td>\n",
       "      <td>NaN</td>\n",
       "      <td>NaN</td>\n",
       "      <td>NaN</td>\n",
       "      <td>NaN</td>\n",
       "    </tr>\n",
       "    <tr>\n",
       "      <th>31</th>\n",
       "      <td>NaN</td>\n",
       "      <td>NaN</td>\n",
       "      <td>NaN</td>\n",
       "      <td>NaN</td>\n",
       "      <td>NaN</td>\n",
       "      <td>NaN</td>\n",
       "      <td>NaN</td>\n",
       "      <td>NaN</td>\n",
       "      <td>NaN</td>\n",
       "      <td>NaN</td>\n",
       "      <td>...</td>\n",
       "      <td>NaN</td>\n",
       "      <td>NaN</td>\n",
       "      <td>NaN</td>\n",
       "      <td>NaN</td>\n",
       "      <td>NaN</td>\n",
       "      <td>NaN</td>\n",
       "      <td>NaN</td>\n",
       "      <td>NaN</td>\n",
       "      <td>NaN</td>\n",
       "      <td>NaN</td>\n",
       "    </tr>\n",
       "    <tr>\n",
       "      <th>38</th>\n",
       "      <td>NaN</td>\n",
       "      <td>NaN</td>\n",
       "      <td>NaN</td>\n",
       "      <td>NaN</td>\n",
       "      <td>NaN</td>\n",
       "      <td>NaN</td>\n",
       "      <td>NaN</td>\n",
       "      <td>NaN</td>\n",
       "      <td>NaN</td>\n",
       "      <td>NaN</td>\n",
       "      <td>...</td>\n",
       "      <td>NaN</td>\n",
       "      <td>NaN</td>\n",
       "      <td>NaN</td>\n",
       "      <td>NaN</td>\n",
       "      <td>NaN</td>\n",
       "      <td>NaN</td>\n",
       "      <td>NaN</td>\n",
       "      <td>NaN</td>\n",
       "      <td>NaN</td>\n",
       "      <td>NaN</td>\n",
       "    </tr>\n",
       "  </tbody>\n",
       "</table>\n",
       "<p>5 rows × 19196 columns</p>\n",
       "</div>"
      ],
      "text/plain": [
       "id_to    2       32      41      42      55      57      58      61      \\\n",
       "id_from                                                                   \n",
       "1           NaN     NaN     NaN     NaN     NaN     NaN     NaN     NaN   \n",
       "9           NaN     NaN     NaN     NaN     5.0     3.0     NaN     NaN   \n",
       "18          NaN     NaN     NaN     NaN     NaN     NaN     NaN     NaN   \n",
       "31          NaN     NaN     NaN     NaN     NaN     NaN     NaN     NaN   \n",
       "38          NaN     NaN     NaN     NaN     NaN     NaN     NaN     NaN   \n",
       "\n",
       "id_to    77      84      ...  220790  220792  220840  220848  220859  220861  \\\n",
       "id_from                  ...                                                   \n",
       "1           NaN     NaN  ...     NaN     NaN     NaN     NaN     NaN     NaN   \n",
       "9           NaN     NaN  ...     NaN     NaN     NaN     7.0     NaN     NaN   \n",
       "18          NaN     NaN  ...     NaN     NaN     NaN     NaN     NaN     NaN   \n",
       "31          NaN     NaN  ...     NaN     NaN     NaN     NaN     NaN     NaN   \n",
       "38          NaN     NaN  ...     NaN     NaN     NaN     NaN     NaN     NaN   \n",
       "\n",
       "id_to    220900  220950  220953  220962  \n",
       "id_from                                  \n",
       "1           NaN     NaN     NaN     NaN  \n",
       "9           NaN     NaN     NaN     NaN  \n",
       "18          NaN     NaN     NaN     NaN  \n",
       "31          NaN     NaN     NaN     NaN  \n",
       "38          NaN     NaN     NaN     NaN  \n",
       "\n",
       "[5 rows x 19196 columns]"
      ]
     },
     "execution_count": 38,
     "metadata": {},
     "output_type": "execute_result"
    }
   ],
   "source": [
    "profilemat.head()"
   ]
  },
  {
   "cell_type": "markdown",
   "id": "b579e893",
   "metadata": {},
   "source": [
    "Например, пользователь 1 лайкнул пользователя 133 (рейтинг 8). Находим сходство других профилей с id 133, это считается фильтрацией на основе контента/"
   ]
  },
  {
   "cell_type": "code",
   "execution_count": 39,
   "id": "8a60fa2f",
   "metadata": {},
   "outputs": [
    {
     "data": {
      "text/plain": [
       "id_from\n",
       "1     8.0\n",
       "9     NaN\n",
       "18    NaN\n",
       "31    NaN\n",
       "38    NaN\n",
       "Name: 133, dtype: float64"
      ]
     },
     "execution_count": 39,
     "metadata": {},
     "output_type": "execute_result"
    }
   ],
   "source": [
    "ratings_to_X = profilemat[133]\n",
    "ratings_to_X.head()"
   ]
  },
  {
   "cell_type": "code",
   "execution_count": 40,
   "id": "92b61700",
   "metadata": {},
   "outputs": [
    {
     "name": "stderr",
     "output_type": "stream",
     "text": [
      "E:\\anaconda3\\Lib\\site-packages\\numpy\\lib\\function_base.py:2846: RuntimeWarning: Degrees of freedom <= 0 for slice\n",
      "  c = cov(x, y, rowvar, dtype=dtype)\n",
      "E:\\anaconda3\\Lib\\site-packages\\numpy\\lib\\function_base.py:2705: RuntimeWarning: divide by zero encountered in divide\n",
      "  c *= np.true_divide(1, fact)\n"
     ]
    }
   ],
   "source": [
    "similarto_to_X = profilemat.corrwith(ratings_to_X)"
   ]
  },
  {
   "cell_type": "code",
   "execution_count": 41,
   "id": "778c2a17",
   "metadata": {},
   "outputs": [
    {
     "data": {
      "text/plain": [
       "id_to\n",
       "2     0.367256\n",
       "32    0.149396\n",
       "41    0.462801\n",
       "42         NaN\n",
       "55    0.089898\n",
       "dtype: float64"
      ]
     },
     "execution_count": 41,
     "metadata": {},
     "output_type": "execute_result"
    }
   ],
   "source": [
    "similarto_to_X.head()"
   ]
  },
  {
   "cell_type": "code",
   "execution_count": 42,
   "id": "7d323eee",
   "metadata": {},
   "outputs": [
    {
     "data": {
      "text/html": [
       "<div>\n",
       "<style scoped>\n",
       "    .dataframe tbody tr th:only-of-type {\n",
       "        vertical-align: middle;\n",
       "    }\n",
       "\n",
       "    .dataframe tbody tr th {\n",
       "        vertical-align: top;\n",
       "    }\n",
       "\n",
       "    .dataframe thead th {\n",
       "        text-align: right;\n",
       "    }\n",
       "</style>\n",
       "<table border=\"1\" class=\"dataframe\">\n",
       "  <thead>\n",
       "    <tr style=\"text-align: right;\">\n",
       "      <th></th>\n",
       "      <th>Correlation</th>\n",
       "    </tr>\n",
       "    <tr>\n",
       "      <th>id_to</th>\n",
       "      <th></th>\n",
       "    </tr>\n",
       "  </thead>\n",
       "  <tbody>\n",
       "    <tr>\n",
       "      <th>2</th>\n",
       "      <td>0.367256</td>\n",
       "    </tr>\n",
       "    <tr>\n",
       "      <th>32</th>\n",
       "      <td>0.149396</td>\n",
       "    </tr>\n",
       "    <tr>\n",
       "      <th>41</th>\n",
       "      <td>0.462801</td>\n",
       "    </tr>\n",
       "    <tr>\n",
       "      <th>55</th>\n",
       "      <td>0.089898</td>\n",
       "    </tr>\n",
       "    <tr>\n",
       "      <th>57</th>\n",
       "      <td>-0.047830</td>\n",
       "    </tr>\n",
       "  </tbody>\n",
       "</table>\n",
       "</div>"
      ],
      "text/plain": [
       "       Correlation\n",
       "id_to             \n",
       "2         0.367256\n",
       "32        0.149396\n",
       "41        0.462801\n",
       "55        0.089898\n",
       "57       -0.047830"
      ]
     },
     "execution_count": 42,
     "metadata": {},
     "output_type": "execute_result"
    }
   ],
   "source": [
    "corr_to_X = pd.DataFrame(similarto_to_X,columns=['Correlation'])\n",
    "corr_to_X.dropna(inplace=True)\n",
    "corr_to_X.head()"
   ]
  },
  {
   "cell_type": "code",
   "execution_count": 43,
   "id": "c81ef4f7",
   "metadata": {},
   "outputs": [
    {
     "data": {
      "text/html": [
       "<div>\n",
       "<style scoped>\n",
       "    .dataframe tbody tr th:only-of-type {\n",
       "        vertical-align: middle;\n",
       "    }\n",
       "\n",
       "    .dataframe tbody tr th {\n",
       "        vertical-align: top;\n",
       "    }\n",
       "\n",
       "    .dataframe thead th {\n",
       "        text-align: right;\n",
       "    }\n",
       "</style>\n",
       "<table border=\"1\" class=\"dataframe\">\n",
       "  <thead>\n",
       "    <tr style=\"text-align: right;\">\n",
       "      <th></th>\n",
       "      <th>Correlation</th>\n",
       "    </tr>\n",
       "    <tr>\n",
       "      <th>id_to</th>\n",
       "      <th></th>\n",
       "    </tr>\n",
       "  </thead>\n",
       "  <tbody>\n",
       "    <tr>\n",
       "      <th>53985</th>\n",
       "      <td>1.0</td>\n",
       "    </tr>\n",
       "    <tr>\n",
       "      <th>116835</th>\n",
       "      <td>1.0</td>\n",
       "    </tr>\n",
       "    <tr>\n",
       "      <th>93709</th>\n",
       "      <td>1.0</td>\n",
       "    </tr>\n",
       "    <tr>\n",
       "      <th>99502</th>\n",
       "      <td>1.0</td>\n",
       "    </tr>\n",
       "    <tr>\n",
       "      <th>17806</th>\n",
       "      <td>1.0</td>\n",
       "    </tr>\n",
       "    <tr>\n",
       "      <th>189546</th>\n",
       "      <td>1.0</td>\n",
       "    </tr>\n",
       "    <tr>\n",
       "      <th>134622</th>\n",
       "      <td>1.0</td>\n",
       "    </tr>\n",
       "    <tr>\n",
       "      <th>99907</th>\n",
       "      <td>1.0</td>\n",
       "    </tr>\n",
       "    <tr>\n",
       "      <th>93656</th>\n",
       "      <td>1.0</td>\n",
       "    </tr>\n",
       "    <tr>\n",
       "      <th>99959</th>\n",
       "      <td>1.0</td>\n",
       "    </tr>\n",
       "  </tbody>\n",
       "</table>\n",
       "</div>"
      ],
      "text/plain": [
       "        Correlation\n",
       "id_to              \n",
       "53985           1.0\n",
       "116835          1.0\n",
       "93709           1.0\n",
       "99502           1.0\n",
       "17806           1.0\n",
       "189546          1.0\n",
       "134622          1.0\n",
       "99907           1.0\n",
       "93656           1.0\n",
       "99959           1.0"
      ]
     },
     "execution_count": 43,
     "metadata": {},
     "output_type": "execute_result"
    }
   ],
   "source": [
    "corr_to_X.sort_values('Correlation',ascending=False).head(10)"
   ]
  },
  {
   "cell_type": "markdown",
   "id": "4abf305e",
   "metadata": {},
   "source": [
    "Несколько id идеально коррелируют друг с другом. Одной из причин этого может быть то, что их оценили только один или два пользователя, и эти оценки совпали. Для более релевантных рекомендации,нужно отфильтровать id на основе определенного числа пользователей, которые их оценили."
   ]
  },
  {
   "cell_type": "code",
   "execution_count": 44,
   "id": "2e8b860f",
   "metadata": {},
   "outputs": [
    {
     "data": {
      "text/html": [
       "<div>\n",
       "<style scoped>\n",
       "    .dataframe tbody tr th:only-of-type {\n",
       "        vertical-align: middle;\n",
       "    }\n",
       "\n",
       "    .dataframe tbody tr th {\n",
       "        vertical-align: top;\n",
       "    }\n",
       "\n",
       "    .dataframe thead th {\n",
       "        text-align: right;\n",
       "    }\n",
       "</style>\n",
       "<table border=\"1\" class=\"dataframe\">\n",
       "  <thead>\n",
       "    <tr style=\"text-align: right;\">\n",
       "      <th></th>\n",
       "      <th>Correlation</th>\n",
       "      <th>number of rating</th>\n",
       "    </tr>\n",
       "    <tr>\n",
       "      <th>id_to</th>\n",
       "      <th></th>\n",
       "      <th></th>\n",
       "    </tr>\n",
       "  </thead>\n",
       "  <tbody>\n",
       "    <tr>\n",
       "      <th>2</th>\n",
       "      <td>0.367256</td>\n",
       "      <td>109</td>\n",
       "    </tr>\n",
       "    <tr>\n",
       "      <th>32</th>\n",
       "      <td>0.149396</td>\n",
       "      <td>172</td>\n",
       "    </tr>\n",
       "    <tr>\n",
       "      <th>41</th>\n",
       "      <td>0.462801</td>\n",
       "      <td>152</td>\n",
       "    </tr>\n",
       "    <tr>\n",
       "      <th>55</th>\n",
       "      <td>0.089898</td>\n",
       "      <td>540</td>\n",
       "    </tr>\n",
       "    <tr>\n",
       "      <th>57</th>\n",
       "      <td>-0.047830</td>\n",
       "      <td>227</td>\n",
       "    </tr>\n",
       "  </tbody>\n",
       "</table>\n",
       "</div>"
      ],
      "text/plain": [
       "       Correlation  number of rating\n",
       "id_to                               \n",
       "2         0.367256               109\n",
       "32        0.149396               172\n",
       "41        0.462801               152\n",
       "55        0.089898               540\n",
       "57       -0.047830               227"
      ]
     },
     "execution_count": 44,
     "metadata": {},
     "output_type": "execute_result"
    }
   ],
   "source": [
    "corr_to_X = corr_to_X.join(mean_ratings_to['number of rating'])\n",
    "corr_to_X.head()"
   ]
  },
  {
   "cell_type": "code",
   "execution_count": 45,
   "id": "b2353ce4",
   "metadata": {},
   "outputs": [
    {
     "data": {
      "text/html": [
       "<div>\n",
       "<style scoped>\n",
       "    .dataframe tbody tr th:only-of-type {\n",
       "        vertical-align: middle;\n",
       "    }\n",
       "\n",
       "    .dataframe tbody tr th {\n",
       "        vertical-align: top;\n",
       "    }\n",
       "\n",
       "    .dataframe thead th {\n",
       "        text-align: right;\n",
       "    }\n",
       "</style>\n",
       "<table border=\"1\" class=\"dataframe\">\n",
       "  <thead>\n",
       "    <tr style=\"text-align: right;\">\n",
       "      <th></th>\n",
       "      <th>Correlation</th>\n",
       "      <th>number of rating</th>\n",
       "    </tr>\n",
       "    <tr>\n",
       "      <th>id_to</th>\n",
       "      <th></th>\n",
       "      <th></th>\n",
       "    </tr>\n",
       "  </thead>\n",
       "  <tbody>\n",
       "    <tr>\n",
       "      <th>88098</th>\n",
       "      <td>1.0</td>\n",
       "      <td>502</td>\n",
       "    </tr>\n",
       "    <tr>\n",
       "      <th>83029</th>\n",
       "      <td>1.0</td>\n",
       "      <td>208</td>\n",
       "    </tr>\n",
       "    <tr>\n",
       "      <th>92030</th>\n",
       "      <td>1.0</td>\n",
       "      <td>334</td>\n",
       "    </tr>\n",
       "    <tr>\n",
       "      <th>55918</th>\n",
       "      <td>1.0</td>\n",
       "      <td>321</td>\n",
       "    </tr>\n",
       "    <tr>\n",
       "      <th>39101</th>\n",
       "      <td>1.0</td>\n",
       "      <td>383</td>\n",
       "    </tr>\n",
       "    <tr>\n",
       "      <th>115019</th>\n",
       "      <td>1.0</td>\n",
       "      <td>314</td>\n",
       "    </tr>\n",
       "    <tr>\n",
       "      <th>62219</th>\n",
       "      <td>1.0</td>\n",
       "      <td>345</td>\n",
       "    </tr>\n",
       "    <tr>\n",
       "      <th>53864</th>\n",
       "      <td>1.0</td>\n",
       "      <td>246</td>\n",
       "    </tr>\n",
       "    <tr>\n",
       "      <th>121862</th>\n",
       "      <td>1.0</td>\n",
       "      <td>270</td>\n",
       "    </tr>\n",
       "    <tr>\n",
       "      <th>174948</th>\n",
       "      <td>1.0</td>\n",
       "      <td>322</td>\n",
       "    </tr>\n",
       "  </tbody>\n",
       "</table>\n",
       "</div>"
      ],
      "text/plain": [
       "        Correlation  number of rating\n",
       "id_to                                \n",
       "88098           1.0               502\n",
       "83029           1.0               208\n",
       "92030           1.0               334\n",
       "55918           1.0               321\n",
       "39101           1.0               383\n",
       "115019          1.0               314\n",
       "62219           1.0               345\n",
       "53864           1.0               246\n",
       "121862          1.0               270\n",
       "174948          1.0               322"
      ]
     },
     "execution_count": 45,
     "metadata": {},
     "output_type": "execute_result"
    }
   ],
   "source": [
    "corr_to_X[corr_to_X['number of rating'] >200].sort_values('Correlation',ascending = False).head(10)"
   ]
  },
  {
   "cell_type": "code",
   "execution_count": 46,
   "id": "88ff5d7e",
   "metadata": {},
   "outputs": [],
   "source": [
    "def content_based_recommend(id_to, profilemat,mean_ratings_to):\n",
    "  \"\"\"\n",
    "  Функция берет лайкнутого пользователя и возвращает наиболее похожие на основе матрицы, в которой id_from это строки, \n",
    "  id_to - столбцы, а rating - значения (для тех id, у которых есть минимум 200 оценок)\n",
    "  \"\"\"\n",
    "  ratings_to = profilemat[id_to]\n",
    "  corr_id_to = pd.DataFrame(profilemat.corrwith(ratings_to),columns=['Correlation'])\n",
    "  corr_id_to.dropna(inplace=True)\n",
    "  corr_id_to = corr_id_to.join(mean_ratings_to['number of rating'])\n",
    "  return (corr_id_to[corr_id_to['number of rating'] > 200].sort_values('Correlation',ascending=False).head(10))"
   ]
  },
  {
   "cell_type": "code",
   "execution_count": 47,
   "id": "7f53e573",
   "metadata": {},
   "outputs": [
    {
     "name": "stderr",
     "output_type": "stream",
     "text": [
      "E:\\anaconda3\\Lib\\site-packages\\numpy\\lib\\function_base.py:2846: RuntimeWarning: Degrees of freedom <= 0 for slice\n",
      "  c = cov(x, y, rowvar, dtype=dtype)\n",
      "E:\\anaconda3\\Lib\\site-packages\\numpy\\lib\\function_base.py:2705: RuntimeWarning: divide by zero encountered in divide\n",
      "  c *= np.true_divide(1, fact)\n"
     ]
    },
    {
     "data": {
      "text/html": [
       "<div>\n",
       "<style scoped>\n",
       "    .dataframe tbody tr th:only-of-type {\n",
       "        vertical-align: middle;\n",
       "    }\n",
       "\n",
       "    .dataframe tbody tr th {\n",
       "        vertical-align: top;\n",
       "    }\n",
       "\n",
       "    .dataframe thead th {\n",
       "        text-align: right;\n",
       "    }\n",
       "</style>\n",
       "<table border=\"1\" class=\"dataframe\">\n",
       "  <thead>\n",
       "    <tr style=\"text-align: right;\">\n",
       "      <th></th>\n",
       "      <th>Correlation</th>\n",
       "      <th>number of rating</th>\n",
       "    </tr>\n",
       "    <tr>\n",
       "      <th>id_to</th>\n",
       "      <th></th>\n",
       "      <th></th>\n",
       "    </tr>\n",
       "  </thead>\n",
       "  <tbody>\n",
       "    <tr>\n",
       "      <th>88098</th>\n",
       "      <td>1.0</td>\n",
       "      <td>502</td>\n",
       "    </tr>\n",
       "    <tr>\n",
       "      <th>83029</th>\n",
       "      <td>1.0</td>\n",
       "      <td>208</td>\n",
       "    </tr>\n",
       "    <tr>\n",
       "      <th>92030</th>\n",
       "      <td>1.0</td>\n",
       "      <td>334</td>\n",
       "    </tr>\n",
       "    <tr>\n",
       "      <th>55918</th>\n",
       "      <td>1.0</td>\n",
       "      <td>321</td>\n",
       "    </tr>\n",
       "    <tr>\n",
       "      <th>39101</th>\n",
       "      <td>1.0</td>\n",
       "      <td>383</td>\n",
       "    </tr>\n",
       "    <tr>\n",
       "      <th>115019</th>\n",
       "      <td>1.0</td>\n",
       "      <td>314</td>\n",
       "    </tr>\n",
       "    <tr>\n",
       "      <th>62219</th>\n",
       "      <td>1.0</td>\n",
       "      <td>345</td>\n",
       "    </tr>\n",
       "    <tr>\n",
       "      <th>53864</th>\n",
       "      <td>1.0</td>\n",
       "      <td>246</td>\n",
       "    </tr>\n",
       "    <tr>\n",
       "      <th>121862</th>\n",
       "      <td>1.0</td>\n",
       "      <td>270</td>\n",
       "    </tr>\n",
       "    <tr>\n",
       "      <th>174948</th>\n",
       "      <td>1.0</td>\n",
       "      <td>322</td>\n",
       "    </tr>\n",
       "  </tbody>\n",
       "</table>\n",
       "</div>"
      ],
      "text/plain": [
       "        Correlation  number of rating\n",
       "id_to                                \n",
       "88098           1.0               502\n",
       "83029           1.0               208\n",
       "92030           1.0               334\n",
       "55918           1.0               321\n",
       "39101           1.0               383\n",
       "115019          1.0               314\n",
       "62219           1.0               345\n",
       "53864           1.0               246\n",
       "121862          1.0               270\n",
       "174948          1.0               322"
      ]
     },
     "execution_count": 47,
     "metadata": {},
     "output_type": "execute_result"
    }
   ],
   "source": [
    "content_based_recommend(133,profilemat,mean_ratings_to)"
   ]
  },
  {
   "cell_type": "markdown",
   "id": "8908bff9",
   "metadata": {},
   "source": [
    "Коллаборативная фильтрация"
   ]
  },
  {
   "cell_type": "code",
   "execution_count": 49,
   "id": "c2f33e04",
   "metadata": {},
   "outputs": [],
   "source": [
    "import csv\n",
    "def ReadFile(filename=\"E:/git_exercise/Final/df_sample.csv\", train_test_split=None):\n",
    "    f = open(filename)\n",
    "    r = csv.reader(f)\n",
    "    mentions = dict()\n",
    "    for line in r:\n",
    "        user = str(line[0])\n",
    "        product = str(line[1])\n",
    "        try:\n",
    "            # Попытка преобразовать третью колонку в число\n",
    "            rate = float(line[2])\n",
    "        except ValueError:\n",
    "            # Если преобразование не удалось, возможно, это текстовая метка\n",
    "            rate = None\n",
    "        if not user in mentions:\n",
    "            mentions[user] = dict()\n",
    "        if rate is not None:\n",
    "            mentions[user][product] = rate\n",
    "    f.close()\n",
    "    if train_test_split is not None:\n",
    "        # Преобразование mentions в нужный формат для train_test_split\n",
    "        mentions = list(mentions.items())\n",
    "        mentions = train_test_split(mentions)\n",
    "    return mentions"
   ]
  },
  {
   "cell_type": "code",
   "execution_count": 55,
   "id": "02c4f548",
   "metadata": {},
   "outputs": [],
   "source": [
    "def distCosine(vecA, vecB):\n",
    "    def dotProduct(vecA, vecB):\n",
    "        d = 0.0\n",
    "        for dim in vecA:\n",
    "            if dim in vecB:\n",
    "                d += vecA[dim] * vecB[dim]\n",
    "        return d\n",
    "\n",
    "    dotProdAB = dotProduct(vecA, vecB)\n",
    "    normA = math.sqrt(dotProduct(vecA, vecA))\n",
    "    normB = math.sqrt(dotProduct(vecB, vecB))\n",
    "\n",
    "    if normA == 0 or normB == 0:\n",
    "        return 0.0\n",
    "    else:\n",
    "        return dotProdAB / normA / normB"
   ]
  },
  {
   "cell_type": "code",
   "execution_count": 51,
   "id": "0560cfdc",
   "metadata": {},
   "outputs": [],
   "source": [
    "import math\n",
    "def makeRecommendation (userID, userRates, nBestUsers, nBestProducts):\n",
    "    matches = [(u, distCosine(userRates[userID], userRates[u])) for u in userRates if u != userID]\n",
    "    bestMatches = sorted(matches, key=lambda x: (x[1], x[0]), reverse=True)[:nBestUsers]\n",
    "    print(\"Most correlated with '%s' users:\" % userID)\n",
    "    for line in bestMatches:\n",
    "        print(\"  UserID: %6s  Coeff: %6.4f\" % (line[0], line[1]))\n",
    "    sim = dict()\n",
    "    sim_all = sum([x[1] for x in bestMatches])\n",
    "    bestMatches = dict([x for x in bestMatches if x[1] > 0.0])        \n",
    "    for relatedUser in bestMatches:\n",
    "        for product in userRates[relatedUser]:\n",
    "            if not product in userRates[userID]:\n",
    "                if not product in sim:\n",
    "                    sim[product] = 0.0\n",
    "                sim[product] += userRates[relatedUser][product] * bestMatches[relatedUser]\n",
    "    for product in sim:\n",
    "        if sim_all==0:\n",
    "            sim[product]==0\n",
    "        else:\n",
    "            sim[product] /= sim_all\n",
    "    bestProducts = sorted(sim.items(), key=lambda x: (x[1], x[0]), reverse=True)[:nBestProducts]\n",
    "    print(\"Most recommended Users:\")\n",
    "    for prodInfo in bestProducts:    \n",
    "        print(\"  UserID: %6s  CorrelationCoeff: %6.4f\" % (prodInfo[0], prodInfo[1]))\n",
    "    return [(x[0], x[1]) for x in bestProducts]"
   ]
  },
  {
   "cell_type": "code",
   "execution_count": 52,
   "id": "4b817037",
   "metadata": {},
   "outputs": [
    {
     "data": {
      "text/html": [
       "<div>\n",
       "<style scoped>\n",
       "    .dataframe tbody tr th:only-of-type {\n",
       "        vertical-align: middle;\n",
       "    }\n",
       "\n",
       "    .dataframe tbody tr th {\n",
       "        vertical-align: top;\n",
       "    }\n",
       "\n",
       "    .dataframe thead th {\n",
       "        text-align: right;\n",
       "    }\n",
       "</style>\n",
       "<table border=\"1\" class=\"dataframe\">\n",
       "  <thead>\n",
       "    <tr style=\"text-align: right;\">\n",
       "      <th></th>\n",
       "      <th>id_from</th>\n",
       "      <th>id_to</th>\n",
       "      <th>rating</th>\n",
       "    </tr>\n",
       "  </thead>\n",
       "  <tbody>\n",
       "    <tr>\n",
       "      <th>0</th>\n",
       "      <td>1</td>\n",
       "      <td>133</td>\n",
       "      <td>8</td>\n",
       "    </tr>\n",
       "    <tr>\n",
       "      <th>1</th>\n",
       "      <td>1</td>\n",
       "      <td>720</td>\n",
       "      <td>6</td>\n",
       "    </tr>\n",
       "    <tr>\n",
       "      <th>2</th>\n",
       "      <td>1</td>\n",
       "      <td>971</td>\n",
       "      <td>10</td>\n",
       "    </tr>\n",
       "    <tr>\n",
       "      <th>3</th>\n",
       "      <td>1</td>\n",
       "      <td>1095</td>\n",
       "      <td>7</td>\n",
       "    </tr>\n",
       "    <tr>\n",
       "      <th>4</th>\n",
       "      <td>1</td>\n",
       "      <td>1616</td>\n",
       "      <td>10</td>\n",
       "    </tr>\n",
       "  </tbody>\n",
       "</table>\n",
       "</div>"
      ],
      "text/plain": [
       "   id_from  id_to  rating\n",
       "0        1    133       8\n",
       "1        1    720       6\n",
       "2        1    971      10\n",
       "3        1   1095       7\n",
       "4        1   1616      10"
      ]
     },
     "execution_count": 52,
     "metadata": {},
     "output_type": "execute_result"
    }
   ],
   "source": [
    "df_ratings_sample.head()"
   ]
  },
  {
   "cell_type": "code",
   "execution_count": 53,
   "id": "e73f129f",
   "metadata": {},
   "outputs": [
    {
     "data": {
      "text/plain": [
       "array([16562, 16570, 16575, 16582, 16590, 16594, 16600, 16603, 16619,\n",
       "       16624, 16629, 16630, 16631, 16643, 16651, 16654, 16656, 16670,\n",
       "       16673, 16679, 16682, 16702, 16721, 16740, 16754, 16783, 16804,\n",
       "       16820, 16822, 16846, 16848, 16871, 16873, 16890, 16898, 16900,\n",
       "       16907, 16924, 16933, 16935, 16955, 16977, 16998, 17000, 17027,\n",
       "       17029, 17031, 17036, 17046, 17057, 17058, 17064, 17078, 17087,\n",
       "       17097, 17109, 17112, 17130, 17161, 17164, 17174, 17183, 17194,\n",
       "       17199, 17200, 17208, 17228, 17239, 17259, 17261, 17280, 17288,\n",
       "       17293, 17326, 17327, 17332, 17337, 17350, 17354, 17355, 17358,\n",
       "       17392, 17430, 17432, 17435, 17441, 17447, 17458, 17461, 17467,\n",
       "       17473, 17485, 17506, 17518, 17519, 17530, 17535, 17537, 17545,\n",
       "       17548, 17558, 17559, 17566, 17570, 17578, 17579, 17589, 17599,\n",
       "       17614, 17615, 17618, 17630, 17640, 17647, 17649, 17669, 17674,\n",
       "       17678, 17679, 17680, 17715, 17739, 17768, 17777, 17779, 17786,\n",
       "       17788, 17796, 17809, 17819, 17832, 17837, 17862, 17869, 17882,\n",
       "       17893, 17899, 17903, 17905, 17911, 17913, 17920, 17921, 17936,\n",
       "       17944, 17948, 17952, 17978, 17979, 17990, 17999, 18000, 18012,\n",
       "       18019, 18029, 18030, 18031, 18038, 18056, 18061, 18066, 18086,\n",
       "       18091, 18097, 18098, 18107, 18122, 18136, 18144, 18156, 18157,\n",
       "       18165, 18183, 18188, 18207, 18221, 18243, 18249, 18252, 18270,\n",
       "       18278, 18283, 18286, 18289, 18294, 18303, 18304, 18325, 18338,\n",
       "       18348, 18350, 18363, 18368, 18376, 18390, 18418, 18425, 18442,\n",
       "       18444, 18451], dtype=int64)"
      ]
     },
     "execution_count": 53,
     "metadata": {},
     "output_type": "execute_result"
    }
   ],
   "source": [
    "df_ratings_sample['id_from'].unique()[1900:2100]"
   ]
  },
  {
   "cell_type": "code",
   "execution_count": 56,
   "id": "8e54f0a4",
   "metadata": {},
   "outputs": [
    {
     "name": "stdout",
     "output_type": "stream",
     "text": [
      "Most correlated with '17355' users:\n",
      "  UserID:  81680  Coeff: 0.5659\n",
      "  UserID:  77314  Coeff: 0.5464\n",
      "  UserID:  60859  Coeff: 0.5321\n",
      "  UserID:  17130  Coeff: 0.5293\n",
      "  UserID:  50170  Coeff: 0.5213\n",
      "  UserID:  70132  Coeff: 0.5195\n",
      "  UserID:  82816  Coeff: 0.5000\n",
      "  UserID:  19232  Coeff: 0.4994\n",
      "  UserID:  54126  Coeff: 0.4968\n",
      "  UserID:  95725  Coeff: 0.4924\n",
      "Most recommended Users:\n",
      "  UserID: 193465  CorrelationCoeff: 6.1259\n",
      "  UserID:  55868  CorrelationCoeff: 5.9898\n",
      "  UserID: 154007  CorrelationCoeff: 5.9154\n",
      "  UserID: 149859  CorrelationCoeff: 5.8995\n",
      "  UserID: 217792  CorrelationCoeff: 5.8278\n",
      "  UserID:  48225  CorrelationCoeff: 5.7153\n",
      "  UserID:  29101  CorrelationCoeff: 5.1086\n",
      "  UserID: 102328  CorrelationCoeff: 4.9544\n",
      "  UserID: 198329  CorrelationCoeff: 4.7923\n",
      "  UserID: 187561  CorrelationCoeff: 4.7907\n"
     ]
    }
   ],
   "source": [
    "rec = makeRecommendation ('17355', ReadFile(), 10, 10)"
   ]
  },
  {
   "cell_type": "code",
   "execution_count": null,
   "id": "713e7af4",
   "metadata": {},
   "outputs": [],
   "source": []
  }
 ],
 "metadata": {
  "kernelspec": {
   "display_name": "Python 3 (ipykernel)",
   "language": "python",
   "name": "python3"
  },
  "language_info": {
   "codemirror_mode": {
    "name": "ipython",
    "version": 3
   },
   "file_extension": ".py",
   "mimetype": "text/x-python",
   "name": "python",
   "nbconvert_exporter": "python",
   "pygments_lexer": "ipython3",
   "version": "3.11.5"
  }
 },
 "nbformat": 4,
 "nbformat_minor": 5
}
