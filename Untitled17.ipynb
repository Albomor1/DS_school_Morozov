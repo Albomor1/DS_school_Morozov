{
 "cells": [
  {
   "cell_type": "code",
   "execution_count": null,
   "id": "e424d1aa",
   "metadata": {},
   "outputs": [],
   "source": [
    "import pandas as pd\n",
    "from sklearn.feature_extraction import DictVectorizer\n",
    "from sklearn.metrics.pairwise import cosine_similarity\n",
    "\n",
    "# Загрузка данных\n",
    "libimseti = pd.read_csv(\"E:/git_exercise/Final/edges/rec-libimseti-dir.edges\", delim_whitespace=True, skiprows=1, names=[\"id_from\", \"id_to\", \"rating\"])\n",
    "info = pd.read_csv('E:/git_exercise/Final/edges/info.csv')\n",
    "\n",
    "# Преобразование данных в формат, удобный для вычисления совместной вероятности\n",
    "user_ratings = []\n",
    "for i in range(len(libimseti)):\n",
    "    user_dict = {'id': libimseti['id_from'].iloc[i], 'ratings': {}}\n",
    "    for j in range(len(libimseti['id_to'])):\n",
    "        if libimseti['id_from'].iloc[i] == libimseti['id_to'].iloc[j]:\n",
    "            continue\n",
    "        if libimseti['rating'].iloc[j] >= 6:\n",
    "            user_dict['ratings'][libimseti['id_to'].iloc[j]] = 1\n",
    "        else:\n",
    "            user_dict['ratings'][libimseti['id_to'].iloc[j]] = -1\n",
    "    user_ratings.append(user_dict)\n",
    "\n",
    "# Создание вектора признаков для пользователей\n",
    "dv = DictVectorizer()\n",
    "vecs = dv.fit_transform(user_ratings)\n",
    "\n",
    "# Вычисление совместной вероятности\n",
    "sim = cosine_similarity(vecs)\n",
    "\n",
    "# Получение топ-10 пользователей для каждого id\n",
    "top_users = {}\n",
    "for i in [98447, 111944, 111930, 82091, 125299, 125298, 17335, 60356]:\n",
    "    top_users[i] = [(info['id'].iloc[j], sim[i][j]) for j in range(len(info)) if info['id'].iloc[j] != i]\n",
    "    top_users[i].sort(key=lambda x: x[1], reverse=True)\n",
    "    top_users[i] = top_users[i][:10]\n",
    "\n",
    "# Вывод результатов\n",
    "for k, v in top_users.items():\n",
    "    print(f'Users most likely to be liked by user {k}:')\n",
    "    for user in v:\n",
    "        print(f'\\t{user[0]} with similarity {user[1]:.2f}')"
   ]
  }
 ],
 "metadata": {
  "kernelspec": {
   "display_name": "Python 3 (ipykernel)",
   "language": "python",
   "name": "python3"
  },
  "language_info": {
   "codemirror_mode": {
    "name": "ipython",
    "version": 3
   },
   "file_extension": ".py",
   "mimetype": "text/x-python",
   "name": "python",
   "nbconvert_exporter": "python",
   "pygments_lexer": "ipython3",
   "version": "3.11.5"
  }
 },
 "nbformat": 4,
 "nbformat_minor": 5
}
