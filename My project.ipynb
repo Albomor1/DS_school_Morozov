{
 "cells": [
  {
   "cell_type": "code",
   "execution_count": 1,
   "id": "ca0ddb0d",
   "metadata": {},
   "outputs": [],
   "source": [
    "import sqlite3\n",
    "import pandas as pd\n",
    "import numpy as np\n",
    "from sklearn.metrics.pairwise import cosine_similarity"
   ]
  },
  {
   "cell_type": "code",
   "execution_count": 3,
   "id": "e62668ef",
   "metadata": {},
   "outputs": [],
   "source": [
    "con = sqlite3.connect(\":memory:\")\n",
    "cur = con.cursor()"
   ]
  },
  {
   "cell_type": "code",
   "execution_count": 4,
   "id": "dbaafe5f",
   "metadata": {},
   "outputs": [],
   "source": [
    "df_ratings = pd.read_csv(\"E:/git_exercise/Final/edges/rec-libimseti-dir.edges\", delim_whitespace=True, skiprows=1, names=[\"id_from\", \"id_to\", \"rating\"])"
   ]
  },
  {
   "cell_type": "code",
   "execution_count": 5,
   "id": "7c286597",
   "metadata": {},
   "outputs": [
    {
     "data": {
      "text/plain": [
       "17359346"
      ]
     },
     "execution_count": 5,
     "metadata": {},
     "output_type": "execute_result"
    }
   ],
   "source": [
    "# создаем таблицу\n",
    "df_ratings.to_sql('ratings', con, index=False, if_exists='replace')"
   ]
  },
  {
   "cell_type": "code",
   "execution_count": 6,
   "id": "846cfa14",
   "metadata": {},
   "outputs": [
    {
     "name": "stderr",
     "output_type": "stream",
     "text": [
      "C:\\Users\\albom\\AppData\\Local\\Temp\\ipykernel_1132\\3540005613.py:2: DtypeWarning: Columns (0) have mixed types. Specify dtype option on import or set low_memory=False.\n",
      "  df_info = pd.read_csv('E:/git_exercise/Final/edges/info.csv', names=[\"id\", \"gender\", \"1\", \"2\", \"3\", \"4\", \"5\", \"6\", \"7\", \"8\", \"9\", \"10\", \"11\", \"12\"])\n"
     ]
    }
   ],
   "source": [
    "# считываем  датасет info\n",
    "df_info = pd.read_csv('E:/git_exercise/Final/edges/info.csv', names=[\"id\", \"gender\", \"1\", \"2\", \"3\", \"4\", \"5\", \"6\", \"7\", \"8\", \"9\", \"10\", \"11\", \"12\"])"
   ]
  },
  {
   "cell_type": "code",
   "execution_count": 7,
   "id": "06ab27cc",
   "metadata": {},
   "outputs": [
    {
     "data": {
      "text/plain": [
       "220971"
      ]
     },
     "execution_count": 7,
     "metadata": {},
     "output_type": "execute_result"
    }
   ],
   "source": [
    "#создаем таблицу\n",
    "df_info.to_sql('info', con, index=False, if_exists='replace')"
   ]
  },
  {
   "cell_type": "code",
   "execution_count": 8,
   "id": "6d7fd943",
   "metadata": {},
   "outputs": [],
   "source": [
    "data=pd.read_sql(\n",
    "    '''\n",
    "    SELECT r.id_from,i.gender,r.id_to,r.rating FROM info i\n",
    "    join ratings r on r.id_from=i.id order by r.id_from\n",
    "    ''',\n",
    "    con,\n",
    ")"
   ]
  },
  {
   "cell_type": "code",
   "execution_count": 9,
   "id": "f1de5403",
   "metadata": {},
   "outputs": [
    {
     "data": {
      "text/html": [
       "<div>\n",
       "<style scoped>\n",
       "    .dataframe tbody tr th:only-of-type {\n",
       "        vertical-align: middle;\n",
       "    }\n",
       "\n",
       "    .dataframe tbody tr th {\n",
       "        vertical-align: top;\n",
       "    }\n",
       "\n",
       "    .dataframe thead th {\n",
       "        text-align: right;\n",
       "    }\n",
       "</style>\n",
       "<table border=\"1\" class=\"dataframe\">\n",
       "  <thead>\n",
       "    <tr style=\"text-align: right;\">\n",
       "      <th></th>\n",
       "      <th>id_from</th>\n",
       "      <th>gender</th>\n",
       "      <th>id_to</th>\n",
       "      <th>rating</th>\n",
       "    </tr>\n",
       "  </thead>\n",
       "  <tbody>\n",
       "    <tr>\n",
       "      <th>0</th>\n",
       "      <td>1</td>\n",
       "      <td>F</td>\n",
       "      <td>133</td>\n",
       "      <td>8</td>\n",
       "    </tr>\n",
       "    <tr>\n",
       "      <th>1</th>\n",
       "      <td>1</td>\n",
       "      <td>F</td>\n",
       "      <td>720</td>\n",
       "      <td>6</td>\n",
       "    </tr>\n",
       "    <tr>\n",
       "      <th>2</th>\n",
       "      <td>1</td>\n",
       "      <td>F</td>\n",
       "      <td>971</td>\n",
       "      <td>10</td>\n",
       "    </tr>\n",
       "    <tr>\n",
       "      <th>3</th>\n",
       "      <td>1</td>\n",
       "      <td>F</td>\n",
       "      <td>1095</td>\n",
       "      <td>7</td>\n",
       "    </tr>\n",
       "    <tr>\n",
       "      <th>4</th>\n",
       "      <td>1</td>\n",
       "      <td>F</td>\n",
       "      <td>1616</td>\n",
       "      <td>10</td>\n",
       "    </tr>\n",
       "    <tr>\n",
       "      <th>...</th>\n",
       "      <td>...</td>\n",
       "      <td>...</td>\n",
       "      <td>...</td>\n",
       "      <td>...</td>\n",
       "    </tr>\n",
       "    <tr>\n",
       "      <th>17359341</th>\n",
       "      <td>135359</td>\n",
       "      <td>F</td>\n",
       "      <td>215145</td>\n",
       "      <td>8</td>\n",
       "    </tr>\n",
       "    <tr>\n",
       "      <th>17359342</th>\n",
       "      <td>135359</td>\n",
       "      <td>F</td>\n",
       "      <td>215718</td>\n",
       "      <td>4</td>\n",
       "    </tr>\n",
       "    <tr>\n",
       "      <th>17359343</th>\n",
       "      <td>135359</td>\n",
       "      <td>F</td>\n",
       "      <td>218646</td>\n",
       "      <td>10</td>\n",
       "    </tr>\n",
       "    <tr>\n",
       "      <th>17359344</th>\n",
       "      <td>135359</td>\n",
       "      <td>F</td>\n",
       "      <td>218857</td>\n",
       "      <td>7</td>\n",
       "    </tr>\n",
       "    <tr>\n",
       "      <th>17359345</th>\n",
       "      <td>135359</td>\n",
       "      <td>F</td>\n",
       "      <td>218988</td>\n",
       "      <td>5</td>\n",
       "    </tr>\n",
       "  </tbody>\n",
       "</table>\n",
       "<p>17359346 rows × 4 columns</p>\n",
       "</div>"
      ],
      "text/plain": [
       "          id_from gender   id_to  rating\n",
       "0               1      F     133       8\n",
       "1               1      F     720       6\n",
       "2               1      F     971      10\n",
       "3               1      F    1095       7\n",
       "4               1      F    1616      10\n",
       "...           ...    ...     ...     ...\n",
       "17359341   135359      F  215145       8\n",
       "17359342   135359      F  215718       4\n",
       "17359343   135359      F  218646      10\n",
       "17359344   135359      F  218857       7\n",
       "17359345   135359      F  218988       5\n",
       "\n",
       "[17359346 rows x 4 columns]"
      ]
     },
     "execution_count": 9,
     "metadata": {},
     "output_type": "execute_result"
    }
   ],
   "source": [
    "data"
   ]
  },
  {
   "cell_type": "code",
   "execution_count": 10,
   "id": "fac0eed7",
   "metadata": {},
   "outputs": [
    {
     "data": {
      "text/plain": [
       "gender\n",
       "U          83164\n",
       "M          76441\n",
       "F          61365\n",
       " gender        1\n",
       "Name: count, dtype: int64"
      ]
     },
     "execution_count": 10,
     "metadata": {},
     "output_type": "execute_result"
    }
   ],
   "source": [
    "#Статистика датасета по полу\n",
    "df_info['gender'].value_counts()"
   ]
  },
  {
   "cell_type": "code",
   "execution_count": 11,
   "id": "c5b0da7f",
   "metadata": {},
   "outputs": [],
   "source": [
    "#Находим средние значения рейтинга для каждуого лайкнутого пользователя\n",
    "mean_ratings_to=pd.DataFrame(df_ratings.groupby('id_to')['rating'].mean())"
   ]
  },
  {
   "cell_type": "code",
   "execution_count": 12,
   "id": "de6368c7",
   "metadata": {},
   "outputs": [],
   "source": [
    "# Считаем число оценок лайкнутых пользователей\n",
    "mean_ratings_to['number of rating'] = pd.DataFrame(df_ratings.groupby('id_to')['rating'].count())"
   ]
  },
  {
   "cell_type": "code",
   "execution_count": 13,
   "id": "485bc02b",
   "metadata": {},
   "outputs": [],
   "source": [
    "# Теперь те же два действия для лайкнувших пользователей\n",
    "mean_ratings_from =pd.DataFrame(df_ratings.groupby('id_from')['rating'].mean())"
   ]
  },
  {
   "cell_type": "code",
   "execution_count": 14,
   "id": "30625461",
   "metadata": {},
   "outputs": [],
   "source": [
    "mean_ratings_from['number of rating'] = pd.DataFrame(df_ratings.groupby('id_from')['rating'].count())"
   ]
  },
  {
   "cell_type": "code",
   "execution_count": 15,
   "id": "a2fbbf6a",
   "metadata": {},
   "outputs": [],
   "source": [
    "#Выбираем активно лайкавших пользователей (кто оценил более, например, 200 раз)\n",
    "new_meanrate_from = mean_ratings_from[mean_ratings_from['number of rating'] > 200]"
   ]
  },
  {
   "cell_type": "code",
   "execution_count": 17,
   "id": "b08660c1",
   "metadata": {},
   "outputs": [],
   "source": [
    "#Сохранение индексов\n",
    "index_from = new_meanrate_from.index"
   ]
  },
  {
   "cell_type": "code",
   "execution_count": 18,
   "id": "61fa1fc1",
   "metadata": {},
   "outputs": [],
   "source": [
    "# Теперь те же два действия для лайкнутых пользователей\n",
    "new_meanrate_to = mean_ratings_to[mean_ratings_to['number of rating'] > 300 ]\n",
    "index_to = new_meanrate_to.index"
   ]
  },
  {
   "cell_type": "code",
   "execution_count": 19,
   "id": "1bed8612",
   "metadata": {},
   "outputs": [],
   "source": [
    "# Делаем сэмпл, где где 'id_from' совпадает с одним из индексов в 'index_from', и 'id_to' совпадает с одним из индексов в 'index_to'\n",
    "df_ratings_sample = df_ratings.loc[(df_ratings['id_from'].isin(index_from)) & (df_ratings['id_to'].isin(index_to))]"
   ]
  },
  {
   "cell_type": "code",
   "execution_count": 20,
   "id": "56377fa7",
   "metadata": {},
   "outputs": [
    {
     "data": {
      "text/plain": [
       "(4738218, 3)"
      ]
     },
     "execution_count": 20,
     "metadata": {},
     "output_type": "execute_result"
    }
   ],
   "source": [
    "# Сократили размер с 17+ млн до 4,7 млн записей\n",
    "df_ratings_sample.shape"
   ]
  },
  {
   "cell_type": "code",
   "execution_count": 21,
   "id": "6444e84b",
   "metadata": {},
   "outputs": [
    {
     "data": {
      "text/plain": [
       "(15874, 12459)"
      ]
     },
     "execution_count": 21,
     "metadata": {},
     "output_type": "execute_result"
    }
   ],
   "source": [
    "#Уникальные id в столбцах\n",
    "df_ratings_sample['id_from'].nunique(), df_ratings_sample['id_to'].nunique()"
   ]
  },
  {
   "cell_type": "code",
   "execution_count": 22,
   "id": "12ebc1b1",
   "metadata": {},
   "outputs": [],
   "source": [
    "#Так же, как и выше, находим средние значения и число оценок, но уже в сэмпле\n",
    "mean_ratings_to = pd.DataFrame(df_ratings_sample.groupby('id_to')['rating'].mean())\n",
    "mean_ratings_to['number of rating'] = pd.DataFrame(df_ratings_sample.groupby('id_to')['rating'].count())\n",
    "mean_ratings_from =pd.DataFrame(df_ratings_sample.groupby('id_from')['rating'].mean())\n",
    "mean_ratings_from['number of rating'] = pd.DataFrame(df_ratings_sample.groupby('id_from')['rating'].count())"
   ]
  },
  {
   "cell_type": "markdown",
   "id": "b0d847c6",
   "metadata": {},
   "source": [
    "Визуализация:"
   ]
  },
  {
   "cell_type": "code",
   "execution_count": 23,
   "id": "96565f31",
   "metadata": {},
   "outputs": [],
   "source": [
    "import matplotlib.pyplot as plt\n",
    "import seaborn as sns"
   ]
  },
  {
   "cell_type": "code",
   "execution_count": 24,
   "id": "8291c615",
   "metadata": {},
   "outputs": [
    {
     "data": {
      "text/plain": [
       "<Axes: >"
      ]
     },
     "execution_count": 24,
     "metadata": {},
     "output_type": "execute_result"
    },
    {
     "data": {
      "image/png": "[encoded data removed]",
      "text/plain": [
       "<Figure size 1200x800 with 1 Axes>"
      ]
     },
     "metadata": {},
     "output_type": "display_data"
    }
   ],
   "source": [
    "plt.figure(figsize=(12,8))\n",
    "mean_ratings_to['rating'].hist(bins=120)"
   ]
  },
  {
   "cell_type": "markdown",
   "id": "2530d5e8",
   "metadata": {},
   "source": [
    "По графику, есть два пика: большое число пользователей, которых оценили по максимуму (10) и меньшее, но тоже выделяющееся - кого оценили минимально (1). Остальные, в целом, укладываются в нормальное распределение."
   ]
  },
  {
   "cell_type": "code",
   "execution_count": 25,
   "id": "157af98f",
   "metadata": {},
   "outputs": [
    {
     "data": {
      "text/plain": [
       "id_to\n",
       "68989     7104\n",
       "83773     6959\n",
       "156148    6887\n",
       "179192    6426\n",
       "155380    5899\n",
       "Name: number of rating, dtype: int64"
      ]
     },
     "execution_count": 25,
     "metadata": {},
     "output_type": "execute_result"
    }
   ],
   "source": [
    "#Сортируем по убыванию\n",
    "mean_ratings_to['number of rating'].sort_values(ascending=False).head()"
   ]
  },
  {
   "cell_type": "code",
   "execution_count": 26,
   "id": "b9bc9ec7",
   "metadata": {},
   "outputs": [
    {
     "data": {
      "text/plain": [
       "<seaborn.axisgrid.JointGrid at 0x16601543410>"
      ]
     },
     "execution_count": 26,
     "metadata": {},
     "output_type": "execute_result"
    },
    {
     "data": {
      "image/png": "[encoded data removed]",
      "text/plain": [
       "<Figure size 600x600 with 3 Axes>"
      ]
     },
     "metadata": {},
     "output_type": "display_data"
    }
   ],
   "source": [
    "# Строим совместный график\n",
    "sns.jointplot(x='rating',y='number of rating',data=mean_ratings_to,alpha=0.5)"
   ]
  },
  {
   "cell_type": "markdown",
   "id": "7df5e1c9",
   "metadata": {},
   "source": [
    "Наибольшее количество оценок у пользователей с рейтингами 6-8 и 10"
   ]
  },
  {
   "cell_type": "markdown",
   "id": "a057d5c1",
   "metadata": {},
   "source": [
    "Возьмем два основных метода: \n",
    "1.Popularity based recommendation \n",
    "2.Content based recommendation "
   ]
  },
  {
   "cell_type": "code",
   "execution_count": 28,
   "id": "cd60c452",
   "metadata": {},
   "outputs": [
    {
     "data": {
      "text/html": [
       "<div>\n",
       "<style scoped>\n",
       "    .dataframe tbody tr th:only-of-type {\n",
       "        vertical-align: middle;\n",
       "    }\n",
       "\n",
       "    .dataframe tbody tr th {\n",
       "        vertical-align: top;\n",
       "    }\n",
       "\n",
       "    .dataframe thead th {\n",
       "        text-align: right;\n",
       "    }\n",
       "</style>\n",
       "<table border=\"1\" class=\"dataframe\">\n",
       "  <thead>\n",
       "    <tr style=\"text-align: right;\">\n",
       "      <th></th>\n",
       "      <th>rating</th>\n",
       "      <th>number of rating</th>\n",
       "    </tr>\n",
       "    <tr>\n",
       "      <th>id_to</th>\n",
       "      <th></th>\n",
       "      <th></th>\n",
       "    </tr>\n",
       "  </thead>\n",
       "  <tbody>\n",
       "    <tr>\n",
       "      <th>68989</th>\n",
       "      <td>5.988035</td>\n",
       "      <td>7104</td>\n",
       "    </tr>\n",
       "    <tr>\n",
       "      <th>83773</th>\n",
       "      <td>6.318293</td>\n",
       "      <td>6959</td>\n",
       "    </tr>\n",
       "    <tr>\n",
       "      <th>156148</th>\n",
       "      <td>9.996370</td>\n",
       "      <td>6887</td>\n",
       "    </tr>\n",
       "    <tr>\n",
       "      <th>179192</th>\n",
       "      <td>7.521008</td>\n",
       "      <td>6426</td>\n",
       "    </tr>\n",
       "    <tr>\n",
       "      <th>155380</th>\n",
       "      <td>5.371588</td>\n",
       "      <td>5899</td>\n",
       "    </tr>\n",
       "  </tbody>\n",
       "</table>\n",
       "</div>"
      ],
      "text/plain": [
       "          rating  number of rating\n",
       "id_to                             \n",
       "68989   5.988035              7104\n",
       "83773   6.318293              6959\n",
       "156148  9.996370              6887\n",
       "179192  7.521008              6426\n",
       "155380  5.371588              5899"
      ]
     },
     "execution_count": 28,
     "metadata": {},
     "output_type": "execute_result"
    }
   ],
   "source": [
    "#Popularity based recommendation выведет рекомендованных пользователей, которые высоко оценивались чаще всего \n",
    "#(в нашем случае, рейтинг выше 6)\n",
    "df_to = mean_ratings_to.sort_values(['number of rating','rating'],ascending=[False,False])\n",
    "df_to.head()"
   ]
  },
  {
   "cell_type": "code",
   "execution_count": 30,
   "id": "6f28b5a6",
   "metadata": {},
   "outputs": [
    {
     "data": {
      "text/plain": [
       "0"
      ]
     },
     "execution_count": 30,
     "metadata": {},
     "output_type": "execute_result"
    }
   ],
   "source": [
    "len(mean_ratings_to[(mean_ratings_to['number of rating'] > 10000) & (mean_ratings_to['rating'] > 6)])"
   ]
  },
  {
   "cell_type": "code",
   "execution_count": 33,
   "id": "a6389a89",
   "metadata": {},
   "outputs": [],
   "source": [
    "#Defining Popularity Based Model\n",
    "def popular_recommend_model(id_from,df_to,threshold,k):\n",
    "  \"\"\"\n",
    "Этот код возвращает верхние 'k' профилей на основе самого высокого рейтинга и количества рейтингов, \n",
    "превышающих определенный порог, независимо от идентификатора пользователя. \n",
    "Если значение k больше, чем количество профилей, соответствующих критериям, \n",
    "он просто возвращает максимальное количество профилей, соответствующих критериям.\n",
    "  \"\"\"\n",
    " # try:\n",
    "#   if len(profile_df[(profile_df['number of rating'] > threshold) & (profile_df['Rating'] > 6)]) < 1:\n",
    "#     print(\"Your filtering doesn't match any profiles\")\n",
    "  return (df_to[(df_to['number of rating'] > threshold) & (df_to['rating'] > 6)].head(k).index)\n",
    " # except:\n",
    " #   print(\"Index out of range\")"
   ]
  },
  {
   "cell_type": "code",
   "execution_count": 37,
   "id": "9f006394",
   "metadata": {},
   "outputs": [
    {
     "data": {
      "text/plain": [
       "Index([328, 1029, 1561, 5962, 6036, 6437, 7006, 10148, 12513, 14258], dtype='int64', name='id_to')"
      ]
     },
     "execution_count": 37,
     "metadata": {},
     "output_type": "execute_result"
    }
   ],
   "source": [
    "popular_recommend_model(98447,mean_ratings_to,2500,10)"
   ]
  },
  {
   "cell_type": "code",
   "execution_count": 38,
   "id": "2985275b",
   "metadata": {},
   "outputs": [],
   "source": [
    "#2. Content- Based Recommendation\n",
    "'''\n",
    "Этот код проверит сходство профилей на основе различных скрытых признаков и предложит профили, \n",
    "похожие на те, которые были оценены пользователем ранее, \n",
    "создав матрицу профиля, в которой пользователь будет использоваться в качестве индекса, \n",
    "профиль - в качестве столбца, а их рейтинг - в качестве значений.\n",
    "'''\n",
    "profilemat = df_ratings_sample.pivot_table(index='id_from',columns='id_to',values='rating')"
   ]
  },
  {
   "cell_type": "code",
   "execution_count": 39,
   "id": "f31bbd32",
   "metadata": {},
   "outputs": [
    {
     "data": {
      "text/plain": [
       "Index([     1,      9,     18,     31,     38,     55,     60,     65,     73,\n",
       "           74,\n",
       "       ...\n",
       "       135280, 135281, 135285, 135298, 135334, 135337, 135339, 135350, 135357,\n",
       "       135359],\n",
       "      dtype='int64', name='id_from', length=15874)"
      ]
     },
     "execution_count": 39,
     "metadata": {},
     "output_type": "execute_result"
    }
   ],
   "source": [
    "profilemat.index"
   ]
  },
  {
   "cell_type": "code",
   "execution_count": 40,
   "id": "366cd835",
   "metadata": {},
   "outputs": [
    {
     "data": {
      "text/html": [
       "<div>\n",
       "<style scoped>\n",
       "    .dataframe tbody tr th:only-of-type {\n",
       "        vertical-align: middle;\n",
       "    }\n",
       "\n",
       "    .dataframe tbody tr th {\n",
       "        vertical-align: top;\n",
       "    }\n",
       "\n",
       "    .dataframe thead th {\n",
       "        text-align: right;\n",
       "    }\n",
       "</style>\n",
       "<table border=\"1\" class=\"dataframe\">\n",
       "  <thead>\n",
       "    <tr style=\"text-align: right;\">\n",
       "      <th>id_to</th>\n",
       "      <th>42</th>\n",
       "      <th>55</th>\n",
       "      <th>57</th>\n",
       "      <th>58</th>\n",
       "      <th>77</th>\n",
       "      <th>84</th>\n",
       "      <th>90</th>\n",
       "      <th>132</th>\n",
       "      <th>133</th>\n",
       "      <th>175</th>\n",
       "      <th>...</th>\n",
       "      <th>220760</th>\n",
       "      <th>220782</th>\n",
       "      <th>220788</th>\n",
       "      <th>220840</th>\n",
       "      <th>220848</th>\n",
       "      <th>220859</th>\n",
       "      <th>220861</th>\n",
       "      <th>220900</th>\n",
       "      <th>220950</th>\n",
       "      <th>220953</th>\n",
       "    </tr>\n",
       "    <tr>\n",
       "      <th>id_from</th>\n",
       "      <th></th>\n",
       "      <th></th>\n",
       "      <th></th>\n",
       "      <th></th>\n",
       "      <th></th>\n",
       "      <th></th>\n",
       "      <th></th>\n",
       "      <th></th>\n",
       "      <th></th>\n",
       "      <th></th>\n",
       "      <th></th>\n",
       "      <th></th>\n",
       "      <th></th>\n",
       "      <th></th>\n",
       "      <th></th>\n",
       "      <th></th>\n",
       "      <th></th>\n",
       "      <th></th>\n",
       "      <th></th>\n",
       "      <th></th>\n",
       "      <th></th>\n",
       "    </tr>\n",
       "  </thead>\n",
       "  <tbody>\n",
       "    <tr>\n",
       "      <th>1</th>\n",
       "      <td>NaN</td>\n",
       "      <td>NaN</td>\n",
       "      <td>NaN</td>\n",
       "      <td>NaN</td>\n",
       "      <td>NaN</td>\n",
       "      <td>NaN</td>\n",
       "      <td>NaN</td>\n",
       "      <td>NaN</td>\n",
       "      <td>8.0</td>\n",
       "      <td>NaN</td>\n",
       "      <td>...</td>\n",
       "      <td>NaN</td>\n",
       "      <td>NaN</td>\n",
       "      <td>NaN</td>\n",
       "      <td>NaN</td>\n",
       "      <td>NaN</td>\n",
       "      <td>NaN</td>\n",
       "      <td>NaN</td>\n",
       "      <td>NaN</td>\n",
       "      <td>NaN</td>\n",
       "      <td>NaN</td>\n",
       "    </tr>\n",
       "    <tr>\n",
       "      <th>9</th>\n",
       "      <td>NaN</td>\n",
       "      <td>5.0</td>\n",
       "      <td>3.0</td>\n",
       "      <td>NaN</td>\n",
       "      <td>NaN</td>\n",
       "      <td>NaN</td>\n",
       "      <td>NaN</td>\n",
       "      <td>NaN</td>\n",
       "      <td>NaN</td>\n",
       "      <td>NaN</td>\n",
       "      <td>...</td>\n",
       "      <td>NaN</td>\n",
       "      <td>NaN</td>\n",
       "      <td>NaN</td>\n",
       "      <td>NaN</td>\n",
       "      <td>7.0</td>\n",
       "      <td>NaN</td>\n",
       "      <td>NaN</td>\n",
       "      <td>NaN</td>\n",
       "      <td>NaN</td>\n",
       "      <td>NaN</td>\n",
       "    </tr>\n",
       "    <tr>\n",
       "      <th>18</th>\n",
       "      <td>NaN</td>\n",
       "      <td>NaN</td>\n",
       "      <td>NaN</td>\n",
       "      <td>NaN</td>\n",
       "      <td>NaN</td>\n",
       "      <td>NaN</td>\n",
       "      <td>NaN</td>\n",
       "      <td>NaN</td>\n",
       "      <td>NaN</td>\n",
       "      <td>NaN</td>\n",
       "      <td>...</td>\n",
       "      <td>NaN</td>\n",
       "      <td>NaN</td>\n",
       "      <td>NaN</td>\n",
       "      <td>NaN</td>\n",
       "      <td>NaN</td>\n",
       "      <td>NaN</td>\n",
       "      <td>NaN</td>\n",
       "      <td>NaN</td>\n",
       "      <td>NaN</td>\n",
       "      <td>NaN</td>\n",
       "    </tr>\n",
       "    <tr>\n",
       "      <th>31</th>\n",
       "      <td>NaN</td>\n",
       "      <td>NaN</td>\n",
       "      <td>NaN</td>\n",
       "      <td>NaN</td>\n",
       "      <td>NaN</td>\n",
       "      <td>NaN</td>\n",
       "      <td>NaN</td>\n",
       "      <td>NaN</td>\n",
       "      <td>NaN</td>\n",
       "      <td>NaN</td>\n",
       "      <td>...</td>\n",
       "      <td>NaN</td>\n",
       "      <td>NaN</td>\n",
       "      <td>NaN</td>\n",
       "      <td>NaN</td>\n",
       "      <td>NaN</td>\n",
       "      <td>NaN</td>\n",
       "      <td>NaN</td>\n",
       "      <td>NaN</td>\n",
       "      <td>NaN</td>\n",
       "      <td>NaN</td>\n",
       "    </tr>\n",
       "    <tr>\n",
       "      <th>38</th>\n",
       "      <td>NaN</td>\n",
       "      <td>NaN</td>\n",
       "      <td>NaN</td>\n",
       "      <td>NaN</td>\n",
       "      <td>NaN</td>\n",
       "      <td>NaN</td>\n",
       "      <td>NaN</td>\n",
       "      <td>NaN</td>\n",
       "      <td>NaN</td>\n",
       "      <td>NaN</td>\n",
       "      <td>...</td>\n",
       "      <td>NaN</td>\n",
       "      <td>NaN</td>\n",
       "      <td>NaN</td>\n",
       "      <td>NaN</td>\n",
       "      <td>NaN</td>\n",
       "      <td>NaN</td>\n",
       "      <td>NaN</td>\n",
       "      <td>NaN</td>\n",
       "      <td>NaN</td>\n",
       "      <td>NaN</td>\n",
       "    </tr>\n",
       "  </tbody>\n",
       "</table>\n",
       "<p>5 rows × 12459 columns</p>\n",
       "</div>"
      ],
      "text/plain": [
       "id_to    42      55      57      58      77      84      90      132     \\\n",
       "id_from                                                                   \n",
       "1           NaN     NaN     NaN     NaN     NaN     NaN     NaN     NaN   \n",
       "9           NaN     5.0     3.0     NaN     NaN     NaN     NaN     NaN   \n",
       "18          NaN     NaN     NaN     NaN     NaN     NaN     NaN     NaN   \n",
       "31          NaN     NaN     NaN     NaN     NaN     NaN     NaN     NaN   \n",
       "38          NaN     NaN     NaN     NaN     NaN     NaN     NaN     NaN   \n",
       "\n",
       "id_to    133     175     ...  220760  220782  220788  220840  220848  220859  \\\n",
       "id_from                  ...                                                   \n",
       "1           8.0     NaN  ...     NaN     NaN     NaN     NaN     NaN     NaN   \n",
       "9           NaN     NaN  ...     NaN     NaN     NaN     NaN     7.0     NaN   \n",
       "18          NaN     NaN  ...     NaN     NaN     NaN     NaN     NaN     NaN   \n",
       "31          NaN     NaN  ...     NaN     NaN     NaN     NaN     NaN     NaN   \n",
       "38          NaN     NaN  ...     NaN     NaN     NaN     NaN     NaN     NaN   \n",
       "\n",
       "id_to    220861  220900  220950  220953  \n",
       "id_from                                  \n",
       "1           NaN     NaN     NaN     NaN  \n",
       "9           NaN     NaN     NaN     NaN  \n",
       "18          NaN     NaN     NaN     NaN  \n",
       "31          NaN     NaN     NaN     NaN  \n",
       "38          NaN     NaN     NaN     NaN  \n",
       "\n",
       "[5 rows x 12459 columns]"
      ]
     },
     "execution_count": 40,
     "metadata": {},
     "output_type": "execute_result"
    }
   ],
   "source": [
    "profilemat.head()"
   ]
  },
  {
   "cell_type": "markdown",
   "id": "b579e893",
   "metadata": {},
   "source": [
    "Например, пользователь 1 лайкнул пользователя 133 (рейтинг 8). Находим сходство других профилей с id 133, это считается фильтрацией на основе контента/"
   ]
  },
  {
   "cell_type": "code",
   "execution_count": 41,
   "id": "8a60fa2f",
   "metadata": {},
   "outputs": [
    {
     "data": {
      "text/plain": [
       "id_from\n",
       "1     8.0\n",
       "9     NaN\n",
       "18    NaN\n",
       "31    NaN\n",
       "38    NaN\n",
       "Name: 133, dtype: float64"
      ]
     },
     "execution_count": 41,
     "metadata": {},
     "output_type": "execute_result"
    }
   ],
   "source": [
    "ratings_to_X = profilemat[133]\n",
    "ratings_to_X.head()"
   ]
  },
  {
   "cell_type": "code",
   "execution_count": 42,
   "id": "92b61700",
   "metadata": {},
   "outputs": [
    {
     "name": "stderr",
     "output_type": "stream",
     "text": [
      "E:\\anaconda3\\Lib\\site-packages\\numpy\\lib\\function_base.py:2846: RuntimeWarning: Degrees of freedom <= 0 for slice\n",
      "  c = cov(x, y, rowvar, dtype=dtype)\n",
      "E:\\anaconda3\\Lib\\site-packages\\numpy\\lib\\function_base.py:2705: RuntimeWarning: divide by zero encountered in divide\n",
      "  c *= np.true_divide(1, fact)\n"
     ]
    }
   ],
   "source": [
    "similarto_to_X = profilemat.corrwith(ratings_to_X)"
   ]
  },
  {
   "cell_type": "code",
   "execution_count": 43,
   "id": "778c2a17",
   "metadata": {},
   "outputs": [
    {
     "data": {
      "text/plain": [
       "id_to\n",
       "42         NaN\n",
       "55    0.089898\n",
       "57   -0.047830\n",
       "58         NaN\n",
       "77         NaN\n",
       "dtype: float64"
      ]
     },
     "execution_count": 43,
     "metadata": {},
     "output_type": "execute_result"
    }
   ],
   "source": [
    "similarto_to_X.head()"
   ]
  },
  {
   "cell_type": "code",
   "execution_count": 44,
   "id": "7d323eee",
   "metadata": {},
   "outputs": [
    {
     "data": {
      "text/html": [
       "<div>\n",
       "<style scoped>\n",
       "    .dataframe tbody tr th:only-of-type {\n",
       "        vertical-align: middle;\n",
       "    }\n",
       "\n",
       "    .dataframe tbody tr th {\n",
       "        vertical-align: top;\n",
       "    }\n",
       "\n",
       "    .dataframe thead th {\n",
       "        text-align: right;\n",
       "    }\n",
       "</style>\n",
       "<table border=\"1\" class=\"dataframe\">\n",
       "  <thead>\n",
       "    <tr style=\"text-align: right;\">\n",
       "      <th></th>\n",
       "      <th>Correlation</th>\n",
       "    </tr>\n",
       "    <tr>\n",
       "      <th>id_to</th>\n",
       "      <th></th>\n",
       "    </tr>\n",
       "  </thead>\n",
       "  <tbody>\n",
       "    <tr>\n",
       "      <th>55</th>\n",
       "      <td>0.089898</td>\n",
       "    </tr>\n",
       "    <tr>\n",
       "      <th>57</th>\n",
       "      <td>-0.047830</td>\n",
       "    </tr>\n",
       "    <tr>\n",
       "      <th>84</th>\n",
       "      <td>0.463969</td>\n",
       "    </tr>\n",
       "    <tr>\n",
       "      <th>133</th>\n",
       "      <td>1.000000</td>\n",
       "    </tr>\n",
       "    <tr>\n",
       "      <th>181</th>\n",
       "      <td>1.000000</td>\n",
       "    </tr>\n",
       "  </tbody>\n",
       "</table>\n",
       "</div>"
      ],
      "text/plain": [
       "       Correlation\n",
       "id_to             \n",
       "55        0.089898\n",
       "57       -0.047830\n",
       "84        0.463969\n",
       "133       1.000000\n",
       "181       1.000000"
      ]
     },
     "execution_count": 44,
     "metadata": {},
     "output_type": "execute_result"
    }
   ],
   "source": [
    "corr_to_X = pd.DataFrame(similarto_to_X,columns=['Correlation'])\n",
    "corr_to_X.dropna(inplace=True)\n",
    "corr_to_X.head()"
   ]
  },
  {
   "cell_type": "code",
   "execution_count": 45,
   "id": "c81ef4f7",
   "metadata": {},
   "outputs": [
    {
     "data": {
      "text/html": [
       "<div>\n",
       "<style scoped>\n",
       "    .dataframe tbody tr th:only-of-type {\n",
       "        vertical-align: middle;\n",
       "    }\n",
       "\n",
       "    .dataframe tbody tr th {\n",
       "        vertical-align: top;\n",
       "    }\n",
       "\n",
       "    .dataframe thead th {\n",
       "        text-align: right;\n",
       "    }\n",
       "</style>\n",
       "<table border=\"1\" class=\"dataframe\">\n",
       "  <thead>\n",
       "    <tr style=\"text-align: right;\">\n",
       "      <th></th>\n",
       "      <th>Correlation</th>\n",
       "    </tr>\n",
       "    <tr>\n",
       "      <th>id_to</th>\n",
       "      <th></th>\n",
       "    </tr>\n",
       "  </thead>\n",
       "  <tbody>\n",
       "    <tr>\n",
       "      <th>3246</th>\n",
       "      <td>1.0</td>\n",
       "    </tr>\n",
       "    <tr>\n",
       "      <th>143924</th>\n",
       "      <td>1.0</td>\n",
       "    </tr>\n",
       "    <tr>\n",
       "      <th>6674</th>\n",
       "      <td>1.0</td>\n",
       "    </tr>\n",
       "    <tr>\n",
       "      <th>124106</th>\n",
       "      <td>1.0</td>\n",
       "    </tr>\n",
       "    <tr>\n",
       "      <th>124059</th>\n",
       "      <td>1.0</td>\n",
       "    </tr>\n",
       "    <tr>\n",
       "      <th>123586</th>\n",
       "      <td>1.0</td>\n",
       "    </tr>\n",
       "    <tr>\n",
       "      <th>16159</th>\n",
       "      <td>1.0</td>\n",
       "    </tr>\n",
       "    <tr>\n",
       "      <th>213375</th>\n",
       "      <td>1.0</td>\n",
       "    </tr>\n",
       "    <tr>\n",
       "      <th>62219</th>\n",
       "      <td>1.0</td>\n",
       "    </tr>\n",
       "    <tr>\n",
       "      <th>121862</th>\n",
       "      <td>1.0</td>\n",
       "    </tr>\n",
       "  </tbody>\n",
       "</table>\n",
       "</div>"
      ],
      "text/plain": [
       "        Correlation\n",
       "id_to              \n",
       "3246            1.0\n",
       "143924          1.0\n",
       "6674            1.0\n",
       "124106          1.0\n",
       "124059          1.0\n",
       "123586          1.0\n",
       "16159           1.0\n",
       "213375          1.0\n",
       "62219           1.0\n",
       "121862          1.0"
      ]
     },
     "execution_count": 45,
     "metadata": {},
     "output_type": "execute_result"
    }
   ],
   "source": [
    "corr_to_X.sort_values('Correlation',ascending=False).head(10)"
   ]
  },
  {
   "cell_type": "markdown",
   "id": "4abf305e",
   "metadata": {},
   "source": [
    "Несколько id идеально коррелируют друг с другом. Одной из причин этого может быть то, что их оценили только один или два пользователя, и эти оценки совпали. Для более релевантных рекомендации,нужно отфильтровать id на основе определенного числа пользователей, которые их оценили."
   ]
  },
  {
   "cell_type": "code",
   "execution_count": 46,
   "id": "2e8b860f",
   "metadata": {},
   "outputs": [
    {
     "data": {
      "text/html": [
       "<div>\n",
       "<style scoped>\n",
       "    .dataframe tbody tr th:only-of-type {\n",
       "        vertical-align: middle;\n",
       "    }\n",
       "\n",
       "    .dataframe tbody tr th {\n",
       "        vertical-align: top;\n",
       "    }\n",
       "\n",
       "    .dataframe thead th {\n",
       "        text-align: right;\n",
       "    }\n",
       "</style>\n",
       "<table border=\"1\" class=\"dataframe\">\n",
       "  <thead>\n",
       "    <tr style=\"text-align: right;\">\n",
       "      <th></th>\n",
       "      <th>Correlation</th>\n",
       "      <th>number of rating</th>\n",
       "    </tr>\n",
       "    <tr>\n",
       "      <th>id_to</th>\n",
       "      <th></th>\n",
       "      <th></th>\n",
       "    </tr>\n",
       "  </thead>\n",
       "  <tbody>\n",
       "    <tr>\n",
       "      <th>55</th>\n",
       "      <td>0.089898</td>\n",
       "      <td>540</td>\n",
       "    </tr>\n",
       "    <tr>\n",
       "      <th>57</th>\n",
       "      <td>-0.047830</td>\n",
       "      <td>227</td>\n",
       "    </tr>\n",
       "    <tr>\n",
       "      <th>84</th>\n",
       "      <td>0.463969</td>\n",
       "      <td>239</td>\n",
       "    </tr>\n",
       "    <tr>\n",
       "      <th>133</th>\n",
       "      <td>1.000000</td>\n",
       "      <td>2097</td>\n",
       "    </tr>\n",
       "    <tr>\n",
       "      <th>181</th>\n",
       "      <td>1.000000</td>\n",
       "      <td>121</td>\n",
       "    </tr>\n",
       "  </tbody>\n",
       "</table>\n",
       "</div>"
      ],
      "text/plain": [
       "       Correlation  number of rating\n",
       "id_to                               \n",
       "55        0.089898               540\n",
       "57       -0.047830               227\n",
       "84        0.463969               239\n",
       "133       1.000000              2097\n",
       "181       1.000000               121"
      ]
     },
     "execution_count": 46,
     "metadata": {},
     "output_type": "execute_result"
    }
   ],
   "source": [
    "corr_to_X = corr_to_X.join(mean_ratings_to['number of rating'])\n",
    "corr_to_X.head()"
   ]
  },
  {
   "cell_type": "code",
   "execution_count": 47,
   "id": "b2353ce4",
   "metadata": {},
   "outputs": [
    {
     "data": {
      "text/html": [
       "<div>\n",
       "<style scoped>\n",
       "    .dataframe tbody tr th:only-of-type {\n",
       "        vertical-align: middle;\n",
       "    }\n",
       "\n",
       "    .dataframe tbody tr th {\n",
       "        vertical-align: top;\n",
       "    }\n",
       "\n",
       "    .dataframe thead th {\n",
       "        text-align: right;\n",
       "    }\n",
       "</style>\n",
       "<table border=\"1\" class=\"dataframe\">\n",
       "  <thead>\n",
       "    <tr style=\"text-align: right;\">\n",
       "      <th></th>\n",
       "      <th>Correlation</th>\n",
       "      <th>number of rating</th>\n",
       "    </tr>\n",
       "    <tr>\n",
       "      <th>id_to</th>\n",
       "      <th></th>\n",
       "      <th></th>\n",
       "    </tr>\n",
       "  </thead>\n",
       "  <tbody>\n",
       "    <tr>\n",
       "      <th>55918</th>\n",
       "      <td>1.0</td>\n",
       "      <td>321</td>\n",
       "    </tr>\n",
       "    <tr>\n",
       "      <th>39101</th>\n",
       "      <td>1.0</td>\n",
       "      <td>383</td>\n",
       "    </tr>\n",
       "    <tr>\n",
       "      <th>87713</th>\n",
       "      <td>1.0</td>\n",
       "      <td>360</td>\n",
       "    </tr>\n",
       "    <tr>\n",
       "      <th>16159</th>\n",
       "      <td>1.0</td>\n",
       "      <td>276</td>\n",
       "    </tr>\n",
       "    <tr>\n",
       "      <th>14910</th>\n",
       "      <td>1.0</td>\n",
       "      <td>490</td>\n",
       "    </tr>\n",
       "    <tr>\n",
       "      <th>52225</th>\n",
       "      <td>1.0</td>\n",
       "      <td>226</td>\n",
       "    </tr>\n",
       "    <tr>\n",
       "      <th>48877</th>\n",
       "      <td>1.0</td>\n",
       "      <td>267</td>\n",
       "    </tr>\n",
       "    <tr>\n",
       "      <th>83029</th>\n",
       "      <td>1.0</td>\n",
       "      <td>208</td>\n",
       "    </tr>\n",
       "    <tr>\n",
       "      <th>102605</th>\n",
       "      <td>1.0</td>\n",
       "      <td>234</td>\n",
       "    </tr>\n",
       "    <tr>\n",
       "      <th>33216</th>\n",
       "      <td>1.0</td>\n",
       "      <td>1780</td>\n",
       "    </tr>\n",
       "  </tbody>\n",
       "</table>\n",
       "</div>"
      ],
      "text/plain": [
       "        Correlation  number of rating\n",
       "id_to                                \n",
       "55918           1.0               321\n",
       "39101           1.0               383\n",
       "87713           1.0               360\n",
       "16159           1.0               276\n",
       "14910           1.0               490\n",
       "52225           1.0               226\n",
       "48877           1.0               267\n",
       "83029           1.0               208\n",
       "102605          1.0               234\n",
       "33216           1.0              1780"
      ]
     },
     "execution_count": 47,
     "metadata": {},
     "output_type": "execute_result"
    }
   ],
   "source": [
    "corr_to_X[corr_to_X['number of rating'] >200].sort_values('Correlation',ascending = False).head(10)"
   ]
  },
  {
   "cell_type": "code",
   "execution_count": 50,
   "id": "88ff5d7e",
   "metadata": {},
   "outputs": [],
   "source": [
    "def content_based_recommend(id_to, profilemat,mean_ratings_to):\n",
    "  \"\"\"\n",
    "  This function which will take any profile ID and return most similar profile to that profile from user-profile rating matrix\n",
    "  given the profile has atleast 300 ratings\n",
    "  \"\"\"\n",
    "  ratings_to = profilemat[id_to]\n",
    "  corr_id_to = pd.DataFrame(profilemat.corrwith(ratings_to),columns=['Correlation'])\n",
    "  corr_id_to.dropna(inplace=True)\n",
    "  corr_id_to = corr_id_to.join(mean_ratings_to['number of rating'])\n",
    "  return (corr_id_to[corr_id_to['number of rating'] > 200].sort_values('Correlation',ascending=False).head(10))"
   ]
  },
  {
   "cell_type": "code",
   "execution_count": 51,
   "id": "7f53e573",
   "metadata": {},
   "outputs": [
    {
     "name": "stderr",
     "output_type": "stream",
     "text": [
      "E:\\anaconda3\\Lib\\site-packages\\numpy\\lib\\function_base.py:2846: RuntimeWarning: Degrees of freedom <= 0 for slice\n",
      "  c = cov(x, y, rowvar, dtype=dtype)\n",
      "E:\\anaconda3\\Lib\\site-packages\\numpy\\lib\\function_base.py:2705: RuntimeWarning: divide by zero encountered in divide\n",
      "  c *= np.true_divide(1, fact)\n"
     ]
    },
    {
     "data": {
      "text/html": [
       "<div>\n",
       "<style scoped>\n",
       "    .dataframe tbody tr th:only-of-type {\n",
       "        vertical-align: middle;\n",
       "    }\n",
       "\n",
       "    .dataframe tbody tr th {\n",
       "        vertical-align: top;\n",
       "    }\n",
       "\n",
       "    .dataframe thead th {\n",
       "        text-align: right;\n",
       "    }\n",
       "</style>\n",
       "<table border=\"1\" class=\"dataframe\">\n",
       "  <thead>\n",
       "    <tr style=\"text-align: right;\">\n",
       "      <th></th>\n",
       "      <th>Correlation</th>\n",
       "      <th>number of rating</th>\n",
       "    </tr>\n",
       "    <tr>\n",
       "      <th>id_to</th>\n",
       "      <th></th>\n",
       "      <th></th>\n",
       "    </tr>\n",
       "  </thead>\n",
       "  <tbody>\n",
       "    <tr>\n",
       "      <th>55918</th>\n",
       "      <td>1.0</td>\n",
       "      <td>321</td>\n",
       "    </tr>\n",
       "    <tr>\n",
       "      <th>39101</th>\n",
       "      <td>1.0</td>\n",
       "      <td>383</td>\n",
       "    </tr>\n",
       "    <tr>\n",
       "      <th>87713</th>\n",
       "      <td>1.0</td>\n",
       "      <td>360</td>\n",
       "    </tr>\n",
       "    <tr>\n",
       "      <th>16159</th>\n",
       "      <td>1.0</td>\n",
       "      <td>276</td>\n",
       "    </tr>\n",
       "    <tr>\n",
       "      <th>14910</th>\n",
       "      <td>1.0</td>\n",
       "      <td>490</td>\n",
       "    </tr>\n",
       "    <tr>\n",
       "      <th>52225</th>\n",
       "      <td>1.0</td>\n",
       "      <td>226</td>\n",
       "    </tr>\n",
       "    <tr>\n",
       "      <th>48877</th>\n",
       "      <td>1.0</td>\n",
       "      <td>267</td>\n",
       "    </tr>\n",
       "    <tr>\n",
       "      <th>83029</th>\n",
       "      <td>1.0</td>\n",
       "      <td>208</td>\n",
       "    </tr>\n",
       "    <tr>\n",
       "      <th>102605</th>\n",
       "      <td>1.0</td>\n",
       "      <td>234</td>\n",
       "    </tr>\n",
       "    <tr>\n",
       "      <th>33216</th>\n",
       "      <td>1.0</td>\n",
       "      <td>1780</td>\n",
       "    </tr>\n",
       "  </tbody>\n",
       "</table>\n",
       "</div>"
      ],
      "text/plain": [
       "        Correlation  number of rating\n",
       "id_to                                \n",
       "55918           1.0               321\n",
       "39101           1.0               383\n",
       "87713           1.0               360\n",
       "16159           1.0               276\n",
       "14910           1.0               490\n",
       "52225           1.0               226\n",
       "48877           1.0               267\n",
       "83029           1.0               208\n",
       "102605          1.0               234\n",
       "33216           1.0              1780"
      ]
     },
     "execution_count": 51,
     "metadata": {},
     "output_type": "execute_result"
    }
   ],
   "source": [
    "content_based_recommend(133,profilemat,mean_ratings_to)"
   ]
  },
  {
   "attachments": {
    "image.png": {
     "image/png": "[encoded data removed]"
    }
   },
   "cell_type": "markdown",
   "id": "843c44b9",
   "metadata": {},
   "source": [
    "\n",
    "For User-item or item-item memory based Collaborative Filtering, we need to make a matrix in which we'll be storing the pairwise distance; Also do we need to split our dataset into train and test set? Because in which we'll be storing the distance right? We'll be applying this right? For item-item Cosine Similarity\n",
    "![image.png](attachment:image.png)"
   ]
  },
  {
   "attachments": {
    "image.png": {
     "image/png": "[encoded data removed]"
    }
   },
   "cell_type": "markdown",
   "id": "263e733a",
   "metadata": {},
   "source": [
    "User -Item Similarity : Users who are similar to you also liked\n",
    "Similarity values between users are measured by observing all the items that are rated by both users.\n",
    "![image.png](attachment:image.png)"
   ]
  },
  {
   "cell_type": "code",
   "execution_count": 53,
   "id": "6ffa1469",
   "metadata": {},
   "outputs": [],
   "source": [
    "from sklearn.model_selection import train_test_split"
   ]
  },
  {
   "cell_type": "code",
   "execution_count": 54,
   "id": "4b34f546",
   "metadata": {},
   "outputs": [],
   "source": [
    "df_train, df_test = train_test_split(df_ratings, test_size = 0.25,random_state=42)"
   ]
  },
  {
   "cell_type": "code",
   "execution_count": 55,
   "id": "32fa97ba",
   "metadata": {},
   "outputs": [
    {
     "data": {
      "text/plain": [
       "(135359, 168791)"
      ]
     },
     "execution_count": 55,
     "metadata": {},
     "output_type": "execute_result"
    }
   ],
   "source": [
    "n_id_from_all = df_ratings['id_from'].unique().shape[0]\n",
    "n_id_to_all = df_ratings['id_to'].unique().shape[0]\n",
    "n_id_from_all, n_id_to_all"
   ]
  },
  {
   "cell_type": "code",
   "execution_count": 56,
   "id": "390d708a",
   "metadata": {},
   "outputs": [
    {
     "data": {
      "text/plain": [
       "(15874, 12459)"
      ]
     },
     "execution_count": 56,
     "metadata": {},
     "output_type": "execute_result"
    }
   ],
   "source": [
    "n_id_from = df_ratings_sample['id_from'].unique().shape[0]\n",
    "n_id_to = df_ratings_sample['id_to'].unique().shape[0]\n",
    "n_id_from, n_id_to"
   ]
  },
  {
   "cell_type": "code",
   "execution_count": 57,
   "id": "f5b3e8fa",
   "metadata": {},
   "outputs": [
    {
     "data": {
      "text/plain": [
       "12459"
      ]
     },
     "execution_count": 57,
     "metadata": {},
     "output_type": "execute_result"
    }
   ],
   "source": [
    "df_ratings_sample['id_to'].unique().shape[0]"
   ]
  },
  {
   "cell_type": "code",
   "execution_count": 58,
   "id": "981bb019",
   "metadata": {},
   "outputs": [
    {
     "data": {
      "text/plain": [
       "((4738218, 3), (13019509, 3), (4339837, 3))"
      ]
     },
     "execution_count": 58,
     "metadata": {},
     "output_type": "execute_result"
    }
   ],
   "source": [
    "df_ratings_sample.shape, df_train.shape, df_test.shape"
   ]
  },
  {
   "cell_type": "code",
   "execution_count": 59,
   "id": "2b1e2478",
   "metadata": {},
   "outputs": [
    {
     "name": "stdout",
     "output_type": "stream",
     "text": [
      "Pandas(Index=0, id_from=1, id_to=133, rating=8)\n"
     ]
    }
   ],
   "source": [
    "for line in df_ratings_sample.itertuples():\n",
    "    print(line)\n",
    "    break"
   ]
  },
  {
   "cell_type": "code",
   "execution_count": 60,
   "id": "21d171fe",
   "metadata": {},
   "outputs": [
    {
     "data": {
      "text/plain": [
       "(15874, 12459)"
      ]
     },
     "execution_count": 60,
     "metadata": {},
     "output_type": "execute_result"
    }
   ],
   "source": [
    "train_data_mat = np.zeros((n_id_from, n_id_to))\n",
    "train_data_mat.shape"
   ]
  },
  {
   "cell_type": "code",
   "execution_count": 61,
   "id": "b4d21114",
   "metadata": {},
   "outputs": [
    {
     "data": {
      "text/plain": [
       "(4339837, 3)"
      ]
     },
     "execution_count": 61,
     "metadata": {},
     "output_type": "execute_result"
    }
   ],
   "source": [
    "df_test.shape"
   ]
  },
  {
   "cell_type": "code",
   "execution_count": 62,
   "id": "cc46a622",
   "metadata": {},
   "outputs": [],
   "source": [
    "#Create two user-item matrix, one for training and another for testing\n",
    "train_data_mat = np.zeros((n_id_from, n_id_to))\n",
    "# Фильтрация данных для исключения недопустимых индексов\n",
    "valid_indices = df_train['id_from'].isin(range(1, n_id_from + 1)) & df_train['id_to'].isin(range(1, n_id_to + 1))\n",
    "filtered_df_train = df_train[valid_indices]\n",
    "#itertuples gives you content of the row along with it's index\n",
    "for line in filtered_df_train.itertuples():\n",
    "  #line[1] - 1 is used to account for index to start from 0, so we get value like\n",
    "  #train_data_mat[id_from,id_to] = Rating\n",
    "    train_data_mat[line[1]-1, line[2] -1] = line[3]\n",
    "test_data_mat = np.zeros((n_id_from, n_id_to))\n",
    "for line in df_test.itertuples():\n",
    "    if line[2] in range(1, n_id_to + 1) and line[1] in range(1, n_id_from + 1):\n",
    "        test_data_mat[line[1]-1, line[2]-1] = line[3]"
   ]
  },
  {
   "cell_type": "code",
   "execution_count": 69,
   "id": "f9654a8a",
   "metadata": {},
   "outputs": [
    {
     "data": {
      "text/plain": [
       "array([[0., 0., 0., ..., 0., 0., 0.],\n",
       "       [0., 0., 0., ..., 0., 0., 0.],\n",
       "       [0., 0., 0., ..., 0., 0., 0.],\n",
       "       ...,\n",
       "       [0., 0., 0., ..., 0., 0., 0.],\n",
       "       [0., 0., 0., ..., 0., 0., 0.],\n",
       "       [0., 0., 0., ..., 0., 0., 0.]])"
      ]
     },
     "execution_count": 69,
     "metadata": {},
     "output_type": "execute_result"
    }
   ],
   "source": [
    "test_data_mat"
   ]
  },
  {
   "attachments": {
    "image.png": {
     "image/png": "[encoded data removed]"
    }
   },
   "cell_type": "markdown",
   "id": "cc5a9128",
   "metadata": {},
   "source": [
    "In recommendation system, we commonly use cosine matrix which will treat the ratings given by a specific user as a vector assuming all the null values as 0 rating and then the cosine gives you the measure of similarity as we know cos(0) = 1 so a value of 1 means the users are very similar.\n",
    "\n",
    "Cosine similiarity for users a and m can be calculated using the formula below, where you take dot product of the user vector  𝑢𝑘\n",
    "  and the user vector  𝑢𝑎\n",
    "  and divide it by multiplication of the Euclidean lengths of the vectors.\n",
    "  ![image.png](attachment:image.png)"
   ]
  },
  {
   "attachments": {
    "image.png": {
     "image/png": "[encoded data removed]"
    }
   },
   "cell_type": "markdown",
   "id": "ec9b54cf",
   "metadata": {},
   "source": [
    "To calculate similarity between items m and b you use the formula:\n",
    "![image.png](attachment:image.png)"
   ]
  },
  {
   "cell_type": "code",
   "execution_count": 63,
   "id": "2b7084ea",
   "metadata": {},
   "outputs": [],
   "source": [
    "from sklearn.metrics.pairwise import pairwise_distances\n",
    "id_from_similarity = pairwise_distances(train_data_mat, metric='cosine')\n",
    "id_to_similarity = pairwise_distances(train_data_mat.T, metric='cosine')"
   ]
  },
  {
   "attachments": {
    "image-2.png": {
     "image/png": "[encoded data removed]"
    },
    "image.png": {
     "image/png": "[encoded data removed]"
    }
   },
   "cell_type": "markdown",
   "id": "f0198531",
   "metadata": {},
   "source": [
    "Now we will make prediction based on the similarity of the above calculated matrix. For user based CF, we will use the below formula.\n",
    "![image.png](attachment:image.png)\n",
    "We are subtracting the user mean rating from each rating which would take care of differences between user while rating. Say for example, a user m rates good profile with 8 and the profile he dislikes with 2 and similarly other user a rates movies he likes with 10 and other movies 4. Now both the users have similar taste but they rate differently. After removing the average rating of a user, we also need to normalize so the rating doesn't cross 10. For this we have divided with the\n",
    "\n",
    "And for item based CF, we will use the below mentioned formula:\n",
    "![image-2.png](attachment:image-2.png)"
   ]
  },
  {
   "cell_type": "code",
   "execution_count": 64,
   "id": "59cc9cf5",
   "metadata": {},
   "outputs": [],
   "source": [
    "def predict(ratings, similarity, type='user'):\n",
    "    if type == 'id_from':\n",
    "        mean_ratings_from = ratings.mean(axis=1)\n",
    "        #You use np.newaxis so that mean_user_rating has same format as ratings\n",
    "        ratings_diff = (ratings - mean_ratings_from[:, np.newaxis]) \n",
    "        rate_pred = mean_ratings_from[:, np.newaxis] + similarity.dot(ratings_diff) / np.array([np.abs(similarity).sum(axis=1)]).T\n",
    "    elif type == 'id_to':\n",
    "        rate_pred = ratings.dot(similarity) / np.array([np.abs(similarity).sum(axis=1)])     \n",
    "    return rate_pred"
   ]
  },
  {
   "cell_type": "code",
   "execution_count": 65,
   "id": "9348d38a",
   "metadata": {},
   "outputs": [],
   "source": [
    "id_to_prediction = predict(train_data_mat, id_to_similarity, type='id_to')\n",
    "id_from_prediction = predict(train_data_mat, id_from_similarity, type='id_from')"
   ]
  },
  {
   "cell_type": "code",
   "execution_count": 70,
   "id": "05a814f3",
   "metadata": {},
   "outputs": [
    {
     "name": "stdout",
     "output_type": "stream",
     "text": [
      "[[0.01095278 0.01064682 0.01091668 ... 0.01092626 0.01091668 0.01091668]\n",
      " [0.00386852 0.00382597 0.00385295 ... 0.00385633 0.00385295 0.00385295]\n",
      " [0.         0.         0.         ... 0.         0.         0.        ]\n",
      " ...\n",
      " [0.00241782 0.00240369 0.00240809 ... 0.0024102  0.00240809 0.00240809]\n",
      " [0.0047484  0.00484064 0.00489645 ... 0.00485605 0.00489645 0.00489645]\n",
      " [0.0013701  0.00132426 0.00136459 ... 0.00136578 0.00136459 0.00136459]]\n"
     ]
    }
   ],
   "source": [
    "print(id_to_prediction)"
   ]
  },
  {
   "cell_type": "code",
   "execution_count": 71,
   "id": "20b05c9e",
   "metadata": {},
   "outputs": [
    {
     "name": "stdout",
     "output_type": "stream",
     "text": [
      "[[ 9.11246241e-03  1.47259169e-02  7.82102114e-03 ...  9.63165107e-03\n",
      "   7.82102114e-03  7.82102114e-03]\n",
      " [ 1.97774881e-03  7.64277748e-03  7.07691439e-04 ...  2.48577176e-03\n",
      "   7.07691439e-04  7.07691439e-04]\n",
      " [-1.90337152e-03  3.76663415e-03 -3.16337278e-03 ... -1.39937101e-03\n",
      "  -3.16337278e-03 -3.16337278e-03]\n",
      " ...\n",
      " [ 5.24531076e-04  6.08184844e-03 -7.46126747e-04 ...  1.03279421e-03\n",
      "  -7.46126747e-04 -7.46126747e-04]\n",
      " [ 2.81723263e-03  8.65537171e-03  1.75805455e-03 ...  3.46052821e-03\n",
      "   1.75805455e-03  1.75805455e-03]\n",
      " [-5.19039396e-04  5.03381722e-03 -1.78238437e-03 ... -1.37014050e-05\n",
      "  -1.78238437e-03 -1.78238437e-03]]\n"
     ]
    }
   ],
   "source": [
    "print(id_from_prediction)"
   ]
  },
  {
   "cell_type": "code",
   "execution_count": 79,
   "id": "82e90788",
   "metadata": {},
   "outputs": [
    {
     "name": "stdout",
     "output_type": "stream",
     "text": [
      "Введите id пользователя: 98447\n",
      "Предсказанные id_to, которым будет поставлена оценка выше 6:\n",
      "Предсказанные id_from, которым будет поставлена оценка выше 6:\n"
     ]
    }
   ],
   "source": [
    "def predi(ratings, similarity, type='user', uid=None):\n",
    "    if type == 'id_from':\n",
    "        mean_ratings_from = ratings.mean(axis=1)\n",
    "        ratings_diff = (ratings - mean_ratings_from[:, np.newaxis])\n",
    "        rate_pred = mean_ratings_from[:, np.newaxis] + similarity.dot(ratings_diff) / np.array([np.abs(similarity).sum(axis=1)]).T\n",
    "    elif type == 'id_to':\n",
    "        rate_pred = ratings.dot(similarity) / np.array([np.abs(similarity).sum(axis=1)])\n",
    "    \n",
    "    # Возвращаем индексы `id_to`, которым будет поставлена оценка больше 6\n",
    "    return np.where(rate_pred > 6)[1]\n",
    "\n",
    "\n",
    "# Запрашиваем у пользователя ввод id пользователя\n",
    "user_id = int(input(\"Введите id пользователя: \"))\n",
    "\n",
    "# Убедимся, что введенное значение находится в допустимом диапазоне\n",
    "if not 1 <= user_id <= df_ratings['id_from'].max():\n",
    "    print(\"Ошибка: введенное значение id пользователя вне допустимого диапазона.\")\n",
    "    exit()\n",
    "\n",
    "# Вызываем функцию predi с введенным значением id пользователя\n",
    "id_to_prediction = predi(train_data_mat, id_to_similarity, type='id_to', uid=user_id)\n",
    "id_from_prediction = predi(train_data_mat, id_from_similarity, type='id_from', uid=user_id)\n",
    "\n",
    "# Ограничиваем вывод до 10 элементов\n",
    "print(\"Предсказанные id_to, которым будет поставлена оценка выше 6:\")\n",
    "for i in range(min(10, len(id_to_prediction))):\n",
    "    print(id_to_prediction[i])\n",
    "\n",
    "print(\"Предсказанные id_from, которым будет поставлена оценка выше 6:\")\n",
    "for i in range(min(10, len(id_from_prediction))):\n",
    "    print(id_from_prediction[i])\n",
    "\n",
    "# Теперь используем функцию `predict` для получения `id_to`\n",
    "#id_to_prediction = predict2(train_data_mat, id_to_similarity, type='id_to')\n",
    "#id_from_prediction = predict2(train_data_mat, id_from_similarity, type='id_from')"
   ]
  },
  {
   "cell_type": "code",
   "execution_count": null,
   "id": "50698353",
   "metadata": {},
   "outputs": [],
   "source": []
  }
 ],
 "metadata": {
  "kernelspec": {
   "display_name": "Python 3 (ipykernel)",
   "language": "python",
   "name": "python3"
  },
  "language_info": {
   "codemirror_mode": {
    "name": "ipython",
    "version": 3
   },
   "file_extension": ".py",
   "mimetype": "text/x-python",
   "name": "python",
   "nbconvert_exporter": "python",
   "pygments_lexer": "ipython3",
   "version": "3.11.5"
  }
 },
 "nbformat": 4,
 "nbformat_minor": 5
}
