{
 "cells": [
  {
   "cell_type": "code",
   "execution_count": 1,
   "id": "8544ba8f",
   "metadata": {},
   "outputs": [],
   "source": [
    "import requests\n",
    "from tqdm.auto import tqdm\n",
    "import numpy as np\n",
    "import pickle as pkl\n",
    "import pandas as pd\n",
    "import seaborn as sns\n",
    "import csv\n",
    "import matplotlib.pyplot as plt\n",
    "import bz2"
   ]
  },
  {
   "cell_type": "code",
   "execution_count": 2,
   "id": "dbdc9af6",
   "metadata": {},
   "outputs": [],
   "source": [
    "with open('E:\\git_exercise\\df_nashdomrf.pkl', 'rb') as f:\n",
    "    df = pkl.load(f)"
   ]
  },
  {
   "cell_type": "code",
   "execution_count": 3,
   "id": "d40a5548",
   "metadata": {},
   "outputs": [],
   "source": [
    "#Добавляем столбец с годом\n",
    "df['objReady100PercDt'] = pd.to_datetime(df['objReady100PercDt'])\n",
    "df['year_'] = df['objReady100PercDt'].dt.strftime('%Y')"
   ]
  },
  {
   "cell_type": "code",
   "execution_count": 4,
   "id": "03645053",
   "metadata": {},
   "outputs": [],
   "source": [
    "class_df = df[['region','objPriceAvg','objSquareLiving','objFloorCnt','objFlatCnt','objFlatSq','objInfrstrObjPrkngCnt','year_']].copy()\n",
    "class_df.to_csv('E:\\git_exercise\\class_df.csv',sep=';',index=False)"
   ]
  },
  {
   "cell_type": "code",
   "execution_count": 7,
   "id": "32130456",
   "metadata": {},
   "outputs": [],
   "source": [
    "class CSVReader:\n",
    "    def __init__(self, file_path):\n",
    "        self.file_path = file_path\n",
    "\n",
    "    def read_csv(self):\n",
    "        with open(self.file_path, 'r') as csv_file:\n",
    "            reader = csv.reader(csv_file)\n",
    "            for row in reader:\n",
    "                yield row"
   ]
  },
  {
   "cell_type": "code",
   "execution_count": 52,
   "id": "f0807879",
   "metadata": {},
   "outputs": [
    {
     "data": {
      "image/png": "[encoded data removed]",
      "text/plain": [
       "<Figure size 640x480 with 1 Axes>"
      ]
     },
     "metadata": {},
     "output_type": "display_data"
    }
   ],
   "source": [
    "class CSVReader:\n",
    "    def __init__(self, file_path):\n",
    "        self.file_path = file_path\n",
    "\n",
    "    def read_csv(self):\n",
    "        with open(self.file_path, 'r') as csv_file:\n",
    "            reader = csv.reader(csv_file)\n",
    "            for row in reader:\n",
    "                yield row\n",
    "\n",
    "    def plot_graph(self, x_column, y_column, x_label, y_label, title):\n",
    "        rows = list(self.read_csv())\n",
    "        x_values = [row[x_column] for row in rows if len(row) > 1]\n",
    "        y_values = [row[y_column] for row in rows if len(row) > 1]\n",
    "        plt.plot(x_values, y_values)\n",
    "        plt.xlabel(x_label)\n",
    "        plt.ylabel(y_label)\n",
    "        plt.title(title)\n",
    "        plt.show()\n",
    "\n",
    "# Создание экземпляра класса\n",
    "csv_reader = CSVReader('E:/git_exercise/class_df.csv')\n",
    "\n",
    "# Построение графика\n",
    "csv_reader.plot_graph(0, 1, 'X Axis', 'Y Axis', 'Title of the Graph')"
   ]
  },
  {
   "cell_type": "code",
   "execution_count": null,
   "id": "8f64aeea",
   "metadata": {},
   "outputs": [],
   "source": []
  }
 ],
 "metadata": {
  "kernelspec": {
   "display_name": "Python 3 (ipykernel)",
   "language": "python",
   "name": "python3"
  },
  "language_info": {
   "codemirror_mode": {
    "name": "ipython",
    "version": 3
   },
   "file_extension": ".py",
   "mimetype": "text/x-python",
   "name": "python",
   "nbconvert_exporter": "python",
   "pygments_lexer": "ipython3",
   "version": "3.11.5"
  }
 },
 "nbformat": 4,
 "nbformat_minor": 5
}
